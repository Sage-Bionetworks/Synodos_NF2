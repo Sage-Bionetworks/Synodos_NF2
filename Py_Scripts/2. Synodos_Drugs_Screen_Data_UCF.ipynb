{
 "metadata": {
  "name": "",
  "signature": "sha256:c0e971df5ea225144c722b0206363fb0a8a703e6dd4b3a3959d84921afafe6ae"
 },
 "nbformat": 3,
 "nbformat_minor": 0,
 "worksheets": [
  {
   "cells": [
    {
     "cell_type": "code",
     "collapsed": false,
     "input": [
      "import os\n",
      "import sys\n",
      "import synapseclient\n",
      "import pandas\n",
      "import json\n",
      "import numpy as np\n",
      "import tempfile\n",
      "import xlrd\n",
      "%load_ext autoreload\n",
      "%autoreload 2\n",
      "\n",
      "sys.path.append(os.environ['HOME'] + \"/dev/appys/lib/\")\n",
      "import utils\n",
      "import synapseutils\n"
     ],
     "language": "python",
     "metadata": {},
     "outputs": [],
     "prompt_number": 1
    },
    {
     "cell_type": "code",
     "collapsed": false,
     "input": [
      "syn = synapseclient.login()"
     ],
     "language": "python",
     "metadata": {},
     "outputs": [
      {
       "output_type": "stream",
       "stream": "stderr",
       "text": [
        "Welcome, Abhishek Pratap!\n"
       ]
      }
     ],
     "prompt_number": 2
    },
    {
     "cell_type": "code",
     "collapsed": false,
     "input": [
      "def process_UCF_drugScreen_data(synid,syn):\n",
      "    ds = syn.get(synid)\n",
      "    ds = pandas.read_excel(ds.path)\n",
      "    \n",
      "    #keep only those columns which have integer name\n",
      "    cols_to_keep = ds.columns.map(lambda x: isinstance(x,int))\n",
      "    ds = ds.ix[:,cols_to_keep]\n",
      "\n",
      "    if ds.columns.shape[0] != 24:\n",
      "        error ='Error number of columns expected NOT EQUAL to 24'\n",
      "        return (pandas.DataFrame({'error':error}))\n",
      "    \n",
      "    try:\n",
      "        annot = pandas.isnull(ds.index)\n",
      "        annot = ds.ix[annot,:]\n",
      "        \n",
      "        raw_vals = pandas.notnull(ds.index)\n",
      "        ds = ds.ix[raw_vals,:]\n",
      "    except:\n",
      "        error = 'unable to split data into annot and drug screen values'\n",
      "        return (pandas.DataFrame({'error':error}))\n",
      "    \n",
      "    \n",
      "    #extract the column labels\n",
      "    col_labels = annot.iloc[1,:]\n",
      "    col_labels = col_labels[col_labels.notnull()].values[0:12]\n",
      "\n",
      "    drug_row =  annot.iloc[3,:]\n",
      "    odd_drug = annot.iloc[2,np.where(drug_row == \"odd\")].values[0]\n",
      "    even_drug = annot.iloc[2,np.where(drug_row == \"even\")].values[0]\n",
      "    \n",
      "    #odd drug\n",
      "    ds_odd_cols = range(1,24,2)\n",
      "    ds_odd_cols = ds.ix[:,ds_odd_cols]\n",
      "    ds_odd_cols.columns = col_labels\n",
      "    ds_odd_cols['drug'] = odd_drug\n",
      "\n",
      "    #even drug\n",
      "    ds_even_cols = range(2,25,2)\n",
      "    ds_even_cols = ds.ix[:, ds_even_cols]\n",
      "    ds_even_cols.columns = col_labels\n",
      "    ds_even_cols['drug'] = even_drug\n",
      "    \n",
      "    final_ds = pandas.concat([ds_even_cols,ds_odd_cols],axis=0)\n",
      "    final_ds['synid'] = synid\n",
      "    \n",
      "    return final_ds\n",
      "    "
     ],
     "language": "python",
     "metadata": {},
     "outputs": [],
     "prompt_number": 277
    },
    {
     "cell_type": "code",
     "collapsed": false,
     "input": [
      "QUERY = \"select * from entity where benefactorId=='%s'\"\n",
      "query_df=syn.query(QUERY % 'syn2347420')\n",
      "query_df=synapseutils.query2df(df)\n",
      "query_df = query_df[(query_df.concreteType == 'FileEntity') & (query_df.name.str.contains('xlsx'))]\n",
      "query_df = query_df.ix[:,['createdByPrincipalId','name', 'id' ]]\n",
      "query_df = query_df[query_df.name.str.contains('odd|even')]"
     ],
     "language": "python",
     "metadata": {},
     "outputs": [],
     "prompt_number": 218
    },
    {
     "cell_type": "code",
     "collapsed": false,
     "input": [
      "grp = query_df.groupby(['name'])"
     ],
     "language": "python",
     "metadata": {},
     "outputs": [],
     "prompt_number": 307
    },
    {
     "cell_type": "code",
     "collapsed": false,
     "input": [
      "drugScreen_data = grp.apply(lambda x: process_UCF_drugScreen_data(x.id.values[0], syn))"
     ],
     "language": "python",
     "metadata": {},
     "outputs": [],
     "prompt_number": 308
    },
    {
     "cell_type": "code",
     "collapsed": false,
     "input": [
      "drugScreen_data.reset_index(inplace=True)"
     ],
     "language": "python",
     "metadata": {},
     "outputs": [],
     "prompt_number": 310
    },
    {
     "cell_type": "code",
     "collapsed": false,
     "input": [
      "drugScreen_data.drop(['level_1'], axis=1,inplace=True)"
     ],
     "language": "python",
     "metadata": {},
     "outputs": [],
     "prompt_number": 313
    },
    {
     "cell_type": "code",
     "collapsed": false,
     "input": [
      "drugScreen_data.to_csv(\"UCF_combined_DrugScreen_data.csv\", sep=\"\\t\", index=False)"
     ],
     "language": "python",
     "metadata": {},
     "outputs": [],
     "prompt_number": 320
    },
    {
     "cell_type": "code",
     "collapsed": false,
     "input": [
      "f = synapseclient.File(\"UCF_combined_DrugScreen_data.csv\", parentId=\"syn2740273\")\n",
      "_ = syn.store(f, used=drugScreen_data.synid.tolist())"
     ],
     "language": "python",
     "metadata": {},
     "outputs": []
    },
    {
     "cell_type": "code",
     "collapsed": false,
     "input": [],
     "language": "python",
     "metadata": {},
     "outputs": []
    }
   ],
   "metadata": {}
  }
 ]
}