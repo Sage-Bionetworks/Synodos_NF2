{
 "metadata": {
  "name": "",
  "signature": "sha256:df464af4186167e8a5ad11c860c9d7074c98cbdd5b3ca63afe4c57e5fed4e950"
 },
 "nbformat": 3,
 "nbformat_minor": 0,
 "worksheets": [
  {
   "cells": [
    {
     "cell_type": "code",
     "collapsed": false,
     "input": [
      "import os\n",
      "import sys\n",
      "import synapseclient\n",
      "import pandas\n",
      "import json\n",
      "import numpy as np\n",
      "import tempfile\n",
      "import xlrd\n",
      "import re\n",
      "%load_ext autoreload\n",
      "%autoreload 2\n",
      "\n",
      "sys.path.append(os.environ['HOME'] + \"/dev/appys/lib/\")\n",
      "import utils\n",
      "import synapseutils\n"
     ],
     "language": "python",
     "metadata": {},
     "outputs": [],
     "prompt_number": 1
    },
    {
     "cell_type": "code",
     "collapsed": false,
     "input": [
      "syn = synapseclient.login()"
     ],
     "language": "python",
     "metadata": {},
     "outputs": [
      {
       "output_type": "stream",
       "stream": "stdout",
       "text": [
        "Welcome, Abhishek Pratap!\n"
       ]
      },
      {
       "output_type": "stream",
       "stream": "stderr",
       "text": [
        "\n",
        "UPGRADE AVAILABLE\n",
        "\n",
        "A more recent version of the Synapse Client (1.2) is available. Your version (1.1) can be upgraded by typing:\n",
        "    pip install --upgrade synapseclient\n",
        "\n",
        "Python Synapse Client version 1.2 release notes\n",
        "\n",
        "Tables beta release\n",
        "\n"
       ]
      }
     ],
     "prompt_number": 2
    },
    {
     "cell_type": "code",
     "collapsed": false,
     "input": [
      "def process_UCF_drugScreen_data(drugscreen_file):\n",
      "    ds = pandas.read_excel(drugscreen_file)\n",
      "    \n",
      "    \n",
      "    #keep only those columns which have integer name\n",
      "    cols_to_keep = ds.columns.map(lambda x: isinstance(x,int))\n",
      "    ds = ds.ix[:,cols_to_keep]\n",
      "\n",
      "    if ds.columns.shape[0] != 24:\n",
      "        error ='Error number of columns expected NOT EQUAL to 24'\n",
      "        return (pandas.DataFrame({'error':error}))\n",
      "    \n",
      "    try:\n",
      "        annot = pandas.isnull(ds.index)\n",
      "        annot = ds.ix[annot,:]\n",
      "        #keep only those rows which have any value\n",
      "        annot = annot[annot.any(axis=1)]\n",
      "\n",
      "        \n",
      "        raw_vals = pandas.notnull(ds.index)\n",
      "        ds = ds.ix[raw_vals,:]\n",
      "    except:\n",
      "        error = 'unable to split data into annot and drug screen values'\n",
      "        return (pandas.DataFrame({'error':error}))\n",
      "    \n",
      "    #extract the column labels\n",
      "    col_labels = annot.iloc[0,:]\n",
      "    col_labels = col_labels[col_labels.notnull()].values[0:12]\n",
      "\n",
      "    drug_row =  annot.iloc[2,:]\n",
      "    odd_drug = annot.iloc[1,np.where(drug_row == \"odd\")].values[0]\n",
      "    even_drug = annot.iloc[1,np.where(drug_row == \"even\")].values[0]\n",
      "    \n",
      "    #odd drug\n",
      "    ds_odd_cols = range(1,24,2)\n",
      "    ds_odd_cols = ds.ix[:,ds_odd_cols]\n",
      "    ds_odd_cols.columns = col_labels\n",
      "    ds_odd_cols['drug'] = odd_drug\n",
      "\n",
      "    #even drug\n",
      "    ds_even_cols = range(2,25,2)\n",
      "    ds_even_cols = ds.ix[:, ds_even_cols]\n",
      "    ds_even_cols.columns = col_labels\n",
      "    ds_even_cols['drug'] = even_drug\n",
      "    \n",
      "    final_ds = pandas.concat([ds_even_cols,ds_odd_cols],axis=0)\n",
      "    \n",
      "    final_ds['plateRow'] = final_ds.index\n",
      "    final_ds = final_ds.reset_index()\n",
      "    return final_ds\n",
      "    "
     ],
     "language": "python",
     "metadata": {},
     "outputs": [],
     "prompt_number": 54
    },
    {
     "cell_type": "markdown",
     "metadata": {},
     "source": [
      "### Processing DrugScreen data under \"syn3044898\" , Human Schwann Cell Lines"
     ]
    },
    {
     "cell_type": "code",
     "collapsed": false,
     "input": [
      "e1_synids = synapseutils.getDescendants_synids('syn3044898', syn)\n",
      "e1_data = [ syn.get(i).path for i in e1_synids ]\n",
      "\n",
      "print 'Total files  %d' % len(e1_data)\n",
      "\n",
      "e1_ds_data = []\n",
      "for f in e1_data:\n",
      "    f_basename = os.path.basename(f)\n",
      "    experiment, cellLine = f_basename.split('-')[0:2]\n",
      "    ds = process_UCF_drugScreen_data(f)\n",
      "    ds['cellLine'] = cellLine\n",
      "    ds['experiment'] = experiment\n",
      "    e1_ds_data.append(ds)\n",
      "    \n",
      "e1_ds_data = pandas.concat(e1_ds_data)\n",
      "print e1_ds_data.shape"
     ],
     "language": "python",
     "metadata": {},
     "outputs": [
      {
       "output_type": "stream",
       "stream": "stdout",
       "text": [
        "Total files  20\n",
        "(320, 18)"
       ]
      },
      {
       "output_type": "stream",
       "stream": "stdout",
       "text": [
        "\n"
       ]
      }
     ],
     "prompt_number": 55
    },
    {
     "cell_type": "markdown",
     "metadata": {},
     "source": [
      "### Processing DrugScreen data under \"syn3044877 \" , Mouse Schwann Cell Lines"
     ]
    },
    {
     "cell_type": "code",
     "collapsed": false,
     "input": [
      "e2_synids = synapseutils.getDescendants_synids('syn3044877', syn)\n",
      "e2_data = [ syn.get(i).path for i in e2_synids ]\n",
      "\n",
      "print 'Total files  %d' % len(e2_data)\n",
      "\n",
      "e2_ds_data = []\n",
      "for f in e2_data:\n",
      "    f_basename = os.path.basename(f)\n",
      "    metadata = f_basename.split('_')[0]\n",
      "    experiment, cellLine = metadata.split('-',1)[0:2]\n",
      "    ds = process_UCF_drugScreen_data(f)\n",
      "    ds['cellLine'] = cellLine\n",
      "    ds['experiment'] = experiment\n",
      "    e2_ds_data.append(ds)\n",
      "    \n",
      "e2_ds_data = pandas.concat(e2_ds_data)\n",
      "print e2_ds_data.shape"
     ],
     "language": "python",
     "metadata": {},
     "outputs": [
      {
       "output_type": "stream",
       "stream": "stdout",
       "text": [
        "Total files  20\n",
        "(320, 18)"
       ]
      },
      {
       "output_type": "stream",
       "stream": "stdout",
       "text": [
        "\n"
       ]
      }
     ],
     "prompt_number": 56
    },
    {
     "cell_type": "markdown",
     "metadata": {},
     "source": [
      "### Processing DrugScreen data under \"syn2664883\" , Mouse cell Lines"
     ]
    },
    {
     "cell_type": "code",
     "collapsed": false,
     "input": [
      "#doesnt work due to an issue with the  descendant query which doesnt return all the ids\n",
      "#e3_synids = synapseutils.getDescendants_synids('syn2664883', syn)\n",
      "#e3_data = [ syn.get(i).path for i in e3_synids ]\n",
      "\n",
      "res = syn.query('select * from entity where benefactorId == \"syn2347420\"')\n",
      "df = synapseutils.query2df(res)\n",
      "df = df[df.parentId == 'syn2664883']\n",
      "e3_data = [ syn.get(i).path for i in df.id]\n",
      "\n",
      "print 'Total files %d' % len(e3_data)\n",
      "\n",
      "e3_ds_data = []\n",
      "for f in e3_data:\n",
      "    f_basename = os.path.basename(f)\n",
      "    #custom fix\n",
      "    if f_basename.startswith('MSC'):\n",
      "        cellLine,experiment = f_basename.split('-')[0:2]\n",
      "    else:\n",
      "        experiment,cellLine = f_basename.split('-')[0:2]\n",
      "    \n",
      "    ds = process_UCF_drugScreen_data(f)\n",
      "    ds['cellLine'] = cellLine\n",
      "    ds['experiment'] = experiment\n",
      "    e3_ds_data.append(ds)\n",
      "\n",
      "e3_ds_data = pandas.concat(e3_ds_data)\n",
      "print e3_ds_data.shape"
     ],
     "language": "python",
     "metadata": {},
     "outputs": [
      {
       "output_type": "stream",
       "stream": "stdout",
       "text": [
        "Total files 60\n",
        "(1920, 19)"
       ]
      },
      {
       "output_type": "stream",
       "stream": "stdout",
       "text": [
        "\n"
       ]
      }
     ],
     "prompt_number": 119
    },
    {
     "cell_type": "markdown",
     "metadata": {},
     "source": [
      "### Combine all the data"
     ]
    },
    {
     "cell_type": "code",
     "collapsed": false,
     "input": [
      "UCF_ds_data = pandas.concat([e1_ds_data, e2_ds_data,e3_ds_data]).reset_index()\n",
      "UCF_ds_data = UCF_ds_data.drop(['level_0','index'],axis=1)"
     ],
     "language": "python",
     "metadata": {},
     "outputs": [],
     "prompt_number": 120
    },
    {
     "cell_type": "code",
     "collapsed": false,
     "input": [
      "#merge and clean similar columns\n",
      "\n",
      "#H20 columns\n",
      "to_merge = pandas.notnull(UCF_ds_data['0.1%H2O'])\n",
      "UCF_ds_data['0.1% H2O'][to_merge] = UCF_ds_data['0.1%H2O'][to_merge]\n",
      "UCF_ds_data = UCF_ds_data.drop(['0.1%H2O'], axis=1)\n",
      "\n",
      "#control column\n",
      "to_merge = pandas.notnull(UCF_ds_data[' + Ctrl'])\n",
      "UCF_ds_data['Ctrl'][to_merge] = UCF_ds_data[' + Ctrl'][to_merge]\n",
      "UCF_ds_data = UCF_ds_data.drop([' + Ctrl'], axis=1)\n",
      "\n",
      "\n",
      "#fix Run1 , Run 2 and Run 1 to be streamlined\n",
      "UCF_ds_data.experiment[UCF_ds_data.experiment == 'Run1'] = 'Run 1'"
     ],
     "language": "python",
     "metadata": {},
     "outputs": [],
     "prompt_number": 121
    },
    {
     "cell_type": "code",
     "collapsed": false,
     "input": [
      "outfile = \"UCF_combined_DrugScreen_data.tsv\"\n",
      "UCF_ds_data.to_csv(outfile, sep=\"\\t\", index=False)\n",
      "\n",
      "f = synapseclient.File(outfile, parentId=\"syn2773788\")\n",
      "_ = syn.store(f, used=UCF_ds_data.synid.tolist(), \n",
      "              executed = ' ')\n",
      "\n",
      "#remove the file\n",
      "! rm $outfile"
     ],
     "language": "python",
     "metadata": {},
     "outputs": [
      {
       "ename": "NameError",
       "evalue": "name 'drugScreen_data' is not defined",
       "output_type": "pyerr",
       "traceback": [
        "\u001b[1;31m---------------------------------------------------------------------------\u001b[0m\n\u001b[1;31mNameError\u001b[0m                                 Traceback (most recent call last)",
        "\u001b[1;32m<ipython-input-128-18f2c80d7cd3>\u001b[0m in \u001b[0;36m<module>\u001b[1;34m()\u001b[0m\n\u001b[0;32m      1\u001b[0m \u001b[0moutfile\u001b[0m \u001b[1;33m=\u001b[0m \u001b[1;34m\"UCF_combined_DrugScreen_data.tsv\"\u001b[0m\u001b[1;33m\u001b[0m\u001b[0m\n\u001b[1;32m----> 2\u001b[1;33m \u001b[0mdrugScreen_data\u001b[0m\u001b[1;33m.\u001b[0m\u001b[0mto_csv\u001b[0m\u001b[1;33m(\u001b[0m\u001b[0moutfile\u001b[0m\u001b[1;33m,\u001b[0m \u001b[0msep\u001b[0m\u001b[1;33m=\u001b[0m\u001b[1;34m\"\\t\"\u001b[0m\u001b[1;33m,\u001b[0m \u001b[0mindex\u001b[0m\u001b[1;33m=\u001b[0m\u001b[0mFalse\u001b[0m\u001b[1;33m)\u001b[0m\u001b[1;33m\u001b[0m\u001b[0m\n\u001b[0m\u001b[0;32m      3\u001b[0m \u001b[1;33m\u001b[0m\u001b[0m\n\u001b[0;32m      4\u001b[0m \u001b[0mf\u001b[0m \u001b[1;33m=\u001b[0m \u001b[0msynapseclient\u001b[0m\u001b[1;33m.\u001b[0m\u001b[0mFile\u001b[0m\u001b[1;33m(\u001b[0m\u001b[0moutfile\u001b[0m\u001b[1;33m,\u001b[0m \u001b[0mparentId\u001b[0m\u001b[1;33m=\u001b[0m\u001b[1;34m\"syn2773788\"\u001b[0m\u001b[1;33m)\u001b[0m\u001b[1;33m\u001b[0m\u001b[0m\n\u001b[0;32m      5\u001b[0m _ = syn.store(f, used=drugScreen_data.synid.tolist(), \n",
        "\u001b[1;31mNameError\u001b[0m: name 'drugScreen_data' is not defined"
       ]
      }
     ],
     "prompt_number": 128
    },
    {
     "cell_type": "code",
     "collapsed": false,
     "input": [],
     "language": "python",
     "metadata": {},
     "outputs": []
    }
   ],
   "metadata": {}
  }
 ]
}