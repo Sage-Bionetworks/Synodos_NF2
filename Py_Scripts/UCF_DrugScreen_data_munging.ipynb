{
 "metadata": {
  "name": "",
  "signature": "sha256:0942caf88166e9dd5b7ed277bb5c1e145206dff94374acc122a3faf6ea0daf27"
 },
 "nbformat": 3,
 "nbformat_minor": 0,
 "worksheets": [
  {
   "cells": [
    {
     "cell_type": "code",
     "collapsed": false,
     "input": [
      "import os\n",
      "import sys\n",
      "import synapseclient\n",
      "import pandas\n",
      "import json\n",
      "import numpy as np\n",
      "import tempfile\n",
      "import xlrd\n",
      "import re\n",
      "%load_ext autoreload\n",
      "%autoreload 2\n",
      "\n",
      "sys.path.append(os.environ['HOME'] + \"/dev/appys/lib/\")\n",
      "import utils\n",
      "import synapseutils\n"
     ],
     "language": "python",
     "metadata": {},
     "outputs": [],
     "prompt_number": 1
    },
    {
     "cell_type": "code",
     "collapsed": false,
     "input": [
      "syn = synapseclient.login()"
     ],
     "language": "python",
     "metadata": {},
     "outputs": [
      {
       "output_type": "stream",
       "stream": "stdout",
       "text": [
        "Welcome, Abhishek Pratap!\n"
       ]
      }
     ],
     "prompt_number": 2
    },
    {
     "cell_type": "code",
     "collapsed": false,
     "input": [
      "def process_UCF_drugScreen_data(drugscreen_file):\n",
      "    \n",
      "    ds = pandas.read_excel(drugscreen_file)\n",
      "    \n",
      "    \n",
      "    #keep only those columns which have integer name\n",
      "    cols_to_keep = ds.columns.map(lambda x: isinstance(x,int))\n",
      "    ds = ds.ix[:,cols_to_keep]\n",
      "\n",
      "    if ds.columns.shape[0] != 24:\n",
      "        error ='Error number of columns expected NOT EQUAL to 24'\n",
      "        return (pandas.DataFrame({'error':error}))\n",
      "    \n",
      "    try:\n",
      "        annot = pandas.isnull(ds.index)\n",
      "        annot = ds.ix[annot,:]\n",
      "        #keep only those rows which have any value\n",
      "        annot = annot[annot.any(axis=1)]\n",
      "\n",
      "        \n",
      "        raw_vals = pandas.notnull(ds.index)\n",
      "        ds = ds.ix[raw_vals,:]\n",
      "    except:\n",
      "        error = 'unable to split data into annot and drug screen values'\n",
      "        return (pandas.DataFrame({'error':error}))\n",
      "    \n",
      "    #extract the column labels\n",
      "    col_labels = annot.iloc[0,:]\n",
      "    col_labels = col_labels.tolist()\n",
      "#    col_labels = col_labels[col_labels.notnull()].values[0:12]\n",
      "    \n",
      "    # this is due to the issue which comes from following sheets where col DMSO and H20 solubles are used on the single plate\n",
      "    # https://www.synapse.org/#!Synapse:syn3044907\n",
      "    odd_col_labels = []\n",
      "    even_col_labels = []\n",
      "    for c in range(0,len(col_labels),2):\n",
      "       odd_col_labels.append(col_labels[c])\n",
      "       if str(col_labels[c+1]) == 'nan':\n",
      "            even_col_labels.append(col_labels[c])\n",
      "       else:\n",
      "            even_col_labels.append(col_labels[c+1])\n",
      "        \n",
      "    drug_row =  annot.iloc[2,:]\n",
      "    odd_drug = annot.iloc[1,np.where(drug_row == \"odd\")].values[0]\n",
      "    even_drug = annot.iloc[1,np.where(drug_row == \"even\")].values[0]\n",
      "    \n",
      "    #odd drug\n",
      "    ds_odd_cols = range(1,24,2)\n",
      "    ds_odd_cols = ds.ix[:,ds_odd_cols]\n",
      "    ds_odd_cols.columns = odd_col_labels\n",
      "    ds_odd_cols['drug'] = odd_drug\n",
      "\n",
      "    #even drug\n",
      "    ds_even_cols = range(2,25,2)\n",
      "    ds_even_cols = ds.ix[:, ds_even_cols]\n",
      "    ds_even_cols.columns = even_col_labels\n",
      "    ds_even_cols['drug'] = even_drug\n",
      "    \n",
      "    final_ds = pandas.concat([ds_even_cols,ds_odd_cols],axis=0)\n",
      "    \n",
      "    final_ds['plateRow'] = final_ds.index\n",
      "    final_ds = final_ds.reset_index()\n",
      "    return final_ds\n",
      "    "
     ],
     "language": "python",
     "metadata": {},
     "outputs": [],
     "prompt_number": 3
    },
    {
     "cell_type": "code",
     "collapsed": false,
     "input": [
      "f = syn.get('syn3044907').path \n",
      "    \n",
      "ds = pandas.read_excel(f)\n",
      "    \n",
      "    \n",
      "#keep only those columns which have integer name\n",
      "cols_to_keep = ds.columns.map(lambda x: isinstance(x,int))\n",
      "ds = ds.ix[:,cols_to_keep]\n",
      "\n",
      "if ds.columns.shape[0] != 24:\n",
      "    error ='Error number of columns expected NOT EQUAL to 24'\n",
      "\n",
      "try:\n",
      "    annot = pandas.isnull(ds.index)\n",
      "    annot = ds.ix[annot,:]\n",
      "    #keep only those rows which have any value\n",
      "    annot = annot[annot.any(axis=1)]\n",
      "\n",
      "\n",
      "    raw_vals = pandas.notnull(ds.index)\n",
      "    ds = ds.ix[raw_vals,:]\n",
      "except:\n",
      "    error = 'unable to split data into annot and drug screen values'\n",
      "  \n",
      "#extract the column labels\n",
      "col_labels = annot.iloc[0,:]\n",
      "col_labels = col_labels.tolist()"
     ],
     "language": "python",
     "metadata": {},
     "outputs": [],
     "prompt_number": 4
    },
    {
     "cell_type": "code",
     "collapsed": false,
     "input": [
      "print odd_col_names\n",
      "print even_col_names"
     ],
     "language": "python",
     "metadata": {},
     "outputs": [
      {
       "ename": "NameError",
       "evalue": "name 'odd_col_names' is not defined",
       "output_type": "pyerr",
       "traceback": [
        "\u001b[1;31m---------------------------------------------------------------------------\u001b[0m\n\u001b[1;31mNameError\u001b[0m                                 Traceback (most recent call last)",
        "\u001b[1;32m<ipython-input-5-3174be84d3cc>\u001b[0m in \u001b[0;36m<module>\u001b[1;34m()\u001b[0m\n\u001b[1;32m----> 1\u001b[1;33m \u001b[1;32mprint\u001b[0m \u001b[0modd_col_names\u001b[0m\u001b[1;33m\u001b[0m\u001b[0m\n\u001b[0m\u001b[0;32m      2\u001b[0m \u001b[1;32mprint\u001b[0m \u001b[0meven_col_names\u001b[0m\u001b[1;33m\u001b[0m\u001b[0m\n",
        "\u001b[1;31mNameError\u001b[0m: name 'odd_col_names' is not defined"
       ]
      }
     ],
     "prompt_number": 5
    },
    {
     "cell_type": "markdown",
     "metadata": {},
     "source": [
      "### Processing DrugScreen data under \"syn3044898\" , Human Schwann Cell Lines"
     ]
    },
    {
     "cell_type": "code",
     "collapsed": false,
     "input": [
      "e1_synids = synapseutils.getDescendants_synids('syn3044898', syn)\n",
      "e1_data = [ syn.get(i).path for i in e1_synids ]\n",
      "\n",
      "print 'Total files  %d' % len(e1_data)\n",
      "\n",
      "e1_ds_data = []\n",
      "for f in e1_data:\n",
      "    f_basename = os.path.basename(f)\n",
      "    experiment, cellLine = f_basename.split('-')[0:2]\n",
      "    ds = process_UCF_drugScreen_data(f)\n",
      "    ds['cellLine'] = cellLine\n",
      "    ds['experiment'] = experiment\n",
      "    e1_ds_data.append(ds)\n",
      "    \n",
      "e1_ds_data = pandas.concat(e1_ds_data, axis=0, ignore_index=True)\n",
      "print e1_ds_data.shape"
     ],
     "language": "python",
     "metadata": {},
     "outputs": [
      {
       "output_type": "stream",
       "stream": "stdout",
       "text": [
        "Total files  20\n",
        "(320, 18)"
       ]
      },
      {
       "output_type": "stream",
       "stream": "stdout",
       "text": [
        "\n"
       ]
      }
     ],
     "prompt_number": 6
    },
    {
     "cell_type": "markdown",
     "metadata": {},
     "source": [
      "### Processing DrugScreen data under \"syn3044877 \" , Mouse Schwann Cell Lines"
     ]
    },
    {
     "cell_type": "code",
     "collapsed": false,
     "input": [
      "e2_synids = synapseutils.getDescendants_synids('syn3044877', syn)\n",
      "e2_data = [ syn.get(i).path for i in e2_synids ]\n",
      "\n",
      "print 'Total files  %d' % len(e2_data)\n",
      "\n",
      "e2_ds_data = []\n",
      "for f in e2_data:\n",
      "    f_basename = os.path.basename(f)\n",
      "    metadata = f_basename.split('_')[0]\n",
      "    experiment, cellLine = metadata.split('-',1)[0:2]\n",
      "    ds = process_UCF_drugScreen_data(f)\n",
      "    ds['cellLine'] = cellLine\n",
      "    ds['experiment'] = experiment\n",
      "    e2_ds_data.append(ds)\n",
      "    \n",
      "e2_ds_data = pandas.concat(e2_ds_data, axis=0, ignore_index=True)\n",
      "print e2_ds_data.shape"
     ],
     "language": "python",
     "metadata": {},
     "outputs": [
      {
       "output_type": "stream",
       "stream": "stdout",
       "text": [
        "Total files  20\n",
        "(320, 18)"
       ]
      },
      {
       "output_type": "stream",
       "stream": "stdout",
       "text": [
        "\n"
       ]
      }
     ],
     "prompt_number": 7
    },
    {
     "cell_type": "markdown",
     "metadata": {},
     "source": [
      "### Processing DrugScreen data under \"syn2664883\" , Mouse cell Lines"
     ]
    },
    {
     "cell_type": "code",
     "collapsed": false,
     "input": [
      "#doesnt work due to an issue with the  descendant query which doesnt return all the ids\n",
      "#e3_synids = synapseutils.getDescendants_synids('syn2664883', syn)\n",
      "#e3_data = [ syn.get(i).path for i in e3_synids ]\n",
      "\n",
      "res = syn.query('select * from entity where benefactorId == \"syn2347420\"')\n",
      "df = synapseutils.query2df(res)\n",
      "df = df[df.parentId == 'syn2664883']\n",
      "e3_synids = df.id.tolist()\n",
      "e3_data = [ syn.get(i).path for i in df.id]\n",
      "\n",
      "print 'Total files %d' % len(e3_data)\n",
      "\n",
      "e3_ds_data = []\n",
      "for f in e3_data:\n",
      "    f_basename = os.path.basename(f)\n",
      "    #custom fix\n",
      "    if f_basename.startswith('MSC'):\n",
      "        cellLine,experiment = f_basename.split('-')[0:2]\n",
      "    else:\n",
      "        experiment,cellLine = f_basename.split('-')[0:2]\n",
      "    \n",
      "    ds = process_UCF_drugScreen_data(f)\n",
      "    ds['cellLine'] = cellLine\n",
      "    ds['experiment'] = experiment\n",
      "    e3_ds_data.append(ds)\n",
      "\n",
      "e3_ds_data = pandas.concat(e3_ds_data, axis=0, ignore_index=True)\n",
      "print e3_ds_data.shape"
     ],
     "language": "python",
     "metadata": {},
     "outputs": [
      {
       "output_type": "stream",
       "stream": "stdout",
       "text": [
        "Total files 60\n",
        "(1920, 19)"
       ]
      },
      {
       "output_type": "stream",
       "stream": "stdout",
       "text": [
        "\n"
       ]
      }
     ],
     "prompt_number": 8
    },
    {
     "cell_type": "markdown",
     "metadata": {},
     "source": [
      "### Combine all the data"
     ]
    },
    {
     "cell_type": "code",
     "collapsed": false,
     "input": [
      "UCF_ds_data = pandas.concat([e1_ds_data, e2_ds_data,e3_ds_data], ignore_index=True, axis=0).reset_index()\n",
      "UCF_ds_data = UCF_ds_data.drop(['level_0','index'],axis=1)"
     ],
     "language": "python",
     "metadata": {},
     "outputs": [],
     "prompt_number": 9
    },
    {
     "cell_type": "code",
     "collapsed": false,
     "input": [
      "#merge and clean similar columns\n",
      "\n",
      "#H20 columns\n",
      "to_merge = pandas.notnull(UCF_ds_data['0.1%H2O'])\n",
      "UCF_ds_data['0.1% H2O'][to_merge] = UCF_ds_data['0.1%H2O'][to_merge]\n",
      "UCF_ds_data = UCF_ds_data.drop(['0.1%H2O'], axis=1)\n",
      "\n",
      "#control column\n",
      "to_merge = pandas.notnull(UCF_ds_data[' + Ctrl'])\n",
      "UCF_ds_data['Ctrl'][to_merge] = UCF_ds_data[' + Ctrl'][to_merge]\n",
      "UCF_ds_data = UCF_ds_data.drop([' + Ctrl'], axis=1)\n",
      "\n",
      "\n",
      "#fix Run1 , Run 2 and Run 1 to be streamlined\n",
      "UCF_ds_data.experiment[UCF_ds_data.experiment == 'Run1'] = 'Run 1'"
     ],
     "language": "python",
     "metadata": {},
     "outputs": [],
     "prompt_number": 10
    },
    {
     "cell_type": "code",
     "collapsed": false,
     "input": [
      "import random\n",
      "sample = random.sample(UCF_ds_data.index,10)\n",
      "UCF_ds_data.ix[sample]"
     ],
     "language": "python",
     "metadata": {},
     "outputs": [
      {
       "html": [
        "<div style=\"max-height:1000px;max-width:1500px;overflow:auto;\">\n",
        "<table border=\"1\" class=\"dataframe\">\n",
        "  <thead>\n",
        "    <tr style=\"text-align: right;\">\n",
        "      <th></th>\n",
        "      <th>0.001 uM</th>\n",
        "      <th>0.003 uM</th>\n",
        "      <th>0.01 uM</th>\n",
        "      <th>0.03 uM</th>\n",
        "      <th>0.1 uM</th>\n",
        "      <th>0.1% DMSO</th>\n",
        "      <th>0.1% H2O</th>\n",
        "      <th>0.3 uM</th>\n",
        "      <th>1 uM</th>\n",
        "      <th>10 uM</th>\n",
        "      <th>3 uM</th>\n",
        "      <th>Ctrl</th>\n",
        "      <th>Untreated</th>\n",
        "      <th>cellLine</th>\n",
        "      <th>drug</th>\n",
        "      <th>experiment</th>\n",
        "      <th>no cells</th>\n",
        "      <th>plateRow</th>\n",
        "    </tr>\n",
        "  </thead>\n",
        "  <tbody>\n",
        "    <tr>\n",
        "      <th>2177</th>\n",
        "      <td> 43848</td>\n",
        "      <td> 43105</td>\n",
        "      <td> 46655</td>\n",
        "      <td> 44989</td>\n",
        "      <td> 43860</td>\n",
        "      <td> 46141</td>\n",
        "      <td> NaN</td>\n",
        "      <td> 43817</td>\n",
        "      <td> 43530</td>\n",
        "      <td> 38481</td>\n",
        "      <td> 39714</td>\n",
        "      <td>  4572</td>\n",
        "      <td> 47442</td>\n",
        "      <td>       MSC</td>\n",
        "      <td>  Perifosine</td>\n",
        "      <td> Run 2</td>\n",
        "      <td>  NaN</td>\n",
        "      <td> B</td>\n",
        "    </tr>\n",
        "    <tr>\n",
        "      <th>520 </th>\n",
        "      <td> 40288</td>\n",
        "      <td> 30948</td>\n",
        "      <td> 31663</td>\n",
        "      <td> 30062</td>\n",
        "      <td> 27179</td>\n",
        "      <td> 31806</td>\n",
        "      <td> NaN</td>\n",
        "      <td> 22307</td>\n",
        "      <td> 24929</td>\n",
        "      <td> 21159</td>\n",
        "      <td> 22700</td>\n",
        "      <td>  2223</td>\n",
        "      <td> 33179</td>\n",
        "      <td> MSC Nf2++</td>\n",
        "      <td> Borterzomib</td>\n",
        "      <td> Run 1</td>\n",
        "      <td>  NaN</td>\n",
        "      <td> I</td>\n",
        "    </tr>\n",
        "    <tr>\n",
        "      <th>2107</th>\n",
        "      <td> 39976</td>\n",
        "      <td> 40248</td>\n",
        "      <td> 39473</td>\n",
        "      <td> 37925</td>\n",
        "      <td> 34620</td>\n",
        "      <td> 42661</td>\n",
        "      <td> NaN</td>\n",
        "      <td> 29134</td>\n",
        "      <td> 20910</td>\n",
        "      <td> 20577</td>\n",
        "      <td> 20700</td>\n",
        "      <td> 19935</td>\n",
        "      <td> 43019</td>\n",
        "      <td>       MSC</td>\n",
        "      <td>    GDC 0941</td>\n",
        "      <td> Run 2</td>\n",
        "      <td>  NaN</td>\n",
        "      <td> L</td>\n",
        "    </tr>\n",
        "    <tr>\n",
        "      <th>982 </th>\n",
        "      <td> 47592</td>\n",
        "      <td> 43736</td>\n",
        "      <td> 42635</td>\n",
        "      <td> 34050</td>\n",
        "      <td> 24675</td>\n",
        "      <td> 52988</td>\n",
        "      <td> NaN</td>\n",
        "      <td> 15756</td>\n",
        "      <td> 30357</td>\n",
        "      <td> 24773</td>\n",
        "      <td>  8232</td>\n",
        "      <td>  6784</td>\n",
        "      <td>   NaN</td>\n",
        "      <td>       MSC</td>\n",
        "      <td>       AR-42</td>\n",
        "      <td> Run 1</td>\n",
        "      <td>  971</td>\n",
        "      <td> G</td>\n",
        "    </tr>\n",
        "    <tr>\n",
        "      <th>1586</th>\n",
        "      <td> 17391</td>\n",
        "      <td> 17002</td>\n",
        "      <td> 24376</td>\n",
        "      <td> 20338</td>\n",
        "      <td> 20034</td>\n",
        "      <td> 37075</td>\n",
        "      <td> NaN</td>\n",
        "      <td> 19053</td>\n",
        "      <td> 15404</td>\n",
        "      <td> 11678</td>\n",
        "      <td> 11713</td>\n",
        "      <td> 17698</td>\n",
        "      <td> 40142</td>\n",
        "      <td>        WC</td>\n",
        "      <td>  Trametinib</td>\n",
        "      <td> Run 1</td>\n",
        "      <td>  NaN</td>\n",
        "      <td> C</td>\n",
        "    </tr>\n",
        "    <tr>\n",
        "      <th>759 </th>\n",
        "      <td> 24800</td>\n",
        "      <td> 24037</td>\n",
        "      <td> 21978</td>\n",
        "      <td> 15446</td>\n",
        "      <td>  9028</td>\n",
        "      <td> 27897</td>\n",
        "      <td> NaN</td>\n",
        "      <td>  5039</td>\n",
        "      <td>  3936</td>\n",
        "      <td>  3288</td>\n",
        "      <td>  3713</td>\n",
        "      <td> 10518</td>\n",
        "      <td> 33459</td>\n",
        "      <td>       CFV</td>\n",
        "      <td>     CUDC907</td>\n",
        "      <td> Run 1</td>\n",
        "      <td>  NaN</td>\n",
        "      <td> H</td>\n",
        "    </tr>\n",
        "    <tr>\n",
        "      <th>2081</th>\n",
        "      <td> 43853</td>\n",
        "      <td> 44856</td>\n",
        "      <td> 43226</td>\n",
        "      <td> 44272</td>\n",
        "      <td> 41283</td>\n",
        "      <td> 42801</td>\n",
        "      <td> NaN</td>\n",
        "      <td> 44399</td>\n",
        "      <td> 45219</td>\n",
        "      <td> 42864</td>\n",
        "      <td> 44801</td>\n",
        "      <td>  4857</td>\n",
        "      <td> 44755</td>\n",
        "      <td>       MSC</td>\n",
        "      <td>  Vismodegib</td>\n",
        "      <td> Run 2</td>\n",
        "      <td>  NaN</td>\n",
        "      <td> B</td>\n",
        "    </tr>\n",
        "    <tr>\n",
        "      <th>1093</th>\n",
        "      <td> 47120</td>\n",
        "      <td> 43654</td>\n",
        "      <td> 44893</td>\n",
        "      <td> 43824</td>\n",
        "      <td> 45488</td>\n",
        "      <td> 48452</td>\n",
        "      <td> NaN</td>\n",
        "      <td> 42136</td>\n",
        "      <td> 43884</td>\n",
        "      <td> 46255</td>\n",
        "      <td> 42431</td>\n",
        "      <td>  4959</td>\n",
        "      <td>   NaN</td>\n",
        "      <td>       MSC</td>\n",
        "      <td>   LY2157299</td>\n",
        "      <td> Run 1</td>\n",
        "      <td> 1007</td>\n",
        "      <td> F</td>\n",
        "    </tr>\n",
        "    <tr>\n",
        "      <th>2041</th>\n",
        "      <td> 39686</td>\n",
        "      <td> 40177</td>\n",
        "      <td> 37460</td>\n",
        "      <td> 33074</td>\n",
        "      <td> 26238</td>\n",
        "      <td> 43104</td>\n",
        "      <td> NaN</td>\n",
        "      <td> 18579</td>\n",
        "      <td> 13481</td>\n",
        "      <td> 18083</td>\n",
        "      <td> 10355</td>\n",
        "      <td>  7953</td>\n",
        "      <td> 41482</td>\n",
        "      <td>       MSC</td>\n",
        "      <td>     CUDC907</td>\n",
        "      <td> Run 2</td>\n",
        "      <td>  NaN</td>\n",
        "      <td> J</td>\n",
        "    </tr>\n",
        "    <tr>\n",
        "      <th>1295</th>\n",
        "      <td> 16701</td>\n",
        "      <td> 22239</td>\n",
        "      <td> 14697</td>\n",
        "      <td> 10679</td>\n",
        "      <td>  8098</td>\n",
        "      <td> 35600</td>\n",
        "      <td> NaN</td>\n",
        "      <td>  6523</td>\n",
        "      <td>  6893</td>\n",
        "      <td>  6542</td>\n",
        "      <td>  6069</td>\n",
        "      <td> 11009</td>\n",
        "      <td> 36482</td>\n",
        "      <td>        WC</td>\n",
        "      <td>  GSK2126458</td>\n",
        "      <td> Run 1</td>\n",
        "      <td>  NaN</td>\n",
        "      <td> P</td>\n",
        "    </tr>\n",
        "  </tbody>\n",
        "</table>\n",
        "</div>"
       ],
       "metadata": {},
       "output_type": "pyout",
       "prompt_number": 11,
       "text": [
        "     0.001 uM 0.003 uM 0.01 uM 0.03 uM 0.1 uM 0.1% DMSO 0.1% H2O 0.3 uM  \\\n",
        "2177    43848    43105   46655   44989  43860     46141      NaN  43817   \n",
        "520     40288    30948   31663   30062  27179     31806      NaN  22307   \n",
        "2107    39976    40248   39473   37925  34620     42661      NaN  29134   \n",
        "982     47592    43736   42635   34050  24675     52988      NaN  15756   \n",
        "1586    17391    17002   24376   20338  20034     37075      NaN  19053   \n",
        "759     24800    24037   21978   15446   9028     27897      NaN   5039   \n",
        "2081    43853    44856   43226   44272  41283     42801      NaN  44399   \n",
        "1093    47120    43654   44893   43824  45488     48452      NaN  42136   \n",
        "2041    39686    40177   37460   33074  26238     43104      NaN  18579   \n",
        "1295    16701    22239   14697   10679   8098     35600      NaN   6523   \n",
        "\n",
        "       1 uM  10 uM   3 uM   Ctrl Untreated   cellLine         drug experiment  \\\n",
        "2177  43530  38481  39714   4572     47442        MSC   Perifosine      Run 2   \n",
        "520   24929  21159  22700   2223     33179  MSC Nf2++  Borterzomib      Run 1   \n",
        "2107  20910  20577  20700  19935     43019        MSC     GDC 0941      Run 2   \n",
        "982   30357  24773   8232   6784       NaN        MSC        AR-42      Run 1   \n",
        "1586  15404  11678  11713  17698     40142         WC   Trametinib      Run 1   \n",
        "759    3936   3288   3713  10518     33459        CFV      CUDC907      Run 1   \n",
        "2081  45219  42864  44801   4857     44755        MSC   Vismodegib      Run 2   \n",
        "1093  43884  46255  42431   4959       NaN        MSC    LY2157299      Run 1   \n",
        "2041  13481  18083  10355   7953     41482        MSC      CUDC907      Run 2   \n",
        "1295   6893   6542   6069  11009     36482         WC   GSK2126458      Run 1   \n",
        "\n",
        "     no cells plateRow  \n",
        "2177      NaN        B  \n",
        "520       NaN        I  \n",
        "2107      NaN        L  \n",
        "982       971        G  \n",
        "1586      NaN        C  \n",
        "759       NaN        H  \n",
        "2081      NaN        B  \n",
        "1093     1007        F  \n",
        "2041      NaN        J  \n",
        "1295      NaN        P  "
       ]
      }
     ],
     "prompt_number": 11
    },
    {
     "cell_type": "markdown",
     "metadata": {},
     "source": [
      "#### Change the cellLine names as per discussion at Orlando Jan 2015 meeting "
     ]
    },
    {
     "cell_type": "code",
     "collapsed": false,
     "input": [
      "UCF_cellLines_newNames = {'HSCmut 45': 'HS01',\n",
      "                          'HSCwt':'HS11',\n",
      "                          'MSC Nf2--': 'MS03',\n",
      "                          'MSC Nf2++': 'MS12',\n",
      "                          'CFV':'MS01',\n",
      "                          'MSC':'MSC11',\n",
      "                          'WC':'MS02'\n",
      "                          }\n",
      "\n",
      "UCF_ds_data.cellLine = UCF_ds_data.cellLine.map(lambda x: UCF_cellLines_newNames.get(x.strip().replace('Nf2 --','Nf2--'),'NA'))"
     ],
     "language": "python",
     "metadata": {},
     "outputs": [],
     "prompt_number": 22
    },
    {
     "cell_type": "code",
     "collapsed": false,
     "input": [
      "outfile = \"UCF_combined_DrugScreen_data.tsv\"\n",
      "UCF_ds_data.to_csv(outfile, sep=\"\\t\", index=False)\n",
      "\n",
      "f = synapseclient.File(outfile, parentId=\"syn2773788\")\n",
      "_ = syn.store(f, used= [e1_synids, e2_synids, e3_synids], \n",
      "              executed = 'http://nbviewer.ipython.org/github/Sage-Bionetworks/Synodos_NF2/blob/master/Py_Scripts/UCF_DrugScreen_data_munging.ipynb')\n",
      "\n",
      "#remove the file\n",
      "! rm $outfile"
     ],
     "language": "python",
     "metadata": {},
     "outputs": [
      {
       "output_type": "stream",
       "stream": "stdout",
       "text": [
        "\n",
        "##################################################\n",
        "Uploading file to Synapse storage\n",
        "##################################################\n",
        "."
       ]
      },
      {
       "output_type": "stream",
       "stream": "stdout",
       "text": [
        "."
       ]
      },
      {
       "output_type": "stream",
       "stream": "stdout",
       "text": [
        ","
       ]
      },
      {
       "output_type": "stream",
       "stream": "stdout",
       "text": [
        "!"
       ]
      },
      {
       "output_type": "stream",
       "stream": "stdout",
       "text": [
        "!"
       ]
      },
      {
       "output_type": "stream",
       "stream": "stdout",
       "text": [
        "!\n"
       ]
      },
      {
       "output_type": "stream",
       "stream": "stdout",
       "text": [
        "Upload completed in 4 seconds.\n"
       ]
      }
     ],
     "prompt_number": 23
    },
    {
     "cell_type": "code",
     "collapsed": false,
     "input": [],
     "language": "python",
     "metadata": {},
     "outputs": []
    }
   ],
   "metadata": {}
  }
 ]
}