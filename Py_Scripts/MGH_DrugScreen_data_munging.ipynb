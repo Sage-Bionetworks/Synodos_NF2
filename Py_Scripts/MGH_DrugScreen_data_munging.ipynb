{
 "metadata": {
  "name": "",
  "signature": "sha256:4b449d2e57afa62307de34c901d8ae95e2c4a25d83a4dfe5d83def87b14b0bb5"
 },
 "nbformat": 3,
 "nbformat_minor": 0,
 "worksheets": [
  {
   "cells": [
    {
     "cell_type": "code",
     "collapsed": false,
     "input": [
      "import os\n",
      "import sys\n",
      "import synapseclient\n",
      "import pandas\n",
      "import json\n",
      "import numpy as np\n",
      "import tempfile\n",
      "import xlrd\n",
      "import re\n",
      "%load_ext autoreload\n",
      "%autoreload 2\n",
      "\n",
      "sys.path.append(os.environ['HOME'] + \"/dev/appys/lib/\")\n",
      "import utils\n",
      "import synapseutils\n"
     ],
     "language": "python",
     "metadata": {},
     "outputs": [],
     "prompt_number": 1
    },
    {
     "cell_type": "code",
     "collapsed": false,
     "input": [
      "syn = synapseclient.login()"
     ],
     "language": "python",
     "metadata": {},
     "outputs": [
      {
       "output_type": "stream",
       "stream": "stdout",
       "text": [
        "Welcome, Abhishek Pratap!\n"
       ]
      },
      {
       "output_type": "stream",
       "stream": "stderr",
       "text": [
        "\n",
        "UPGRADE AVAILABLE\n",
        "\n",
        "A more recent version of the Synapse Client (1.2) is available. Your version (1.1) can be upgraded by typing:\n",
        "    pip install --upgrade synapseclient\n",
        "\n",
        "Python Synapse Client version 1.2 release notes\n",
        "\n",
        "Tables beta release\n",
        "\n"
       ]
      }
     ],
     "prompt_number": 2
    },
    {
     "cell_type": "markdown",
     "metadata": {},
     "source": [
      "### Stage 1: Cleaning Exp 1 raw data"
     ]
    },
    {
     "cell_type": "code",
     "collapsed": false,
     "input": [
      "e1 = syn.get('syn2752130')"
     ],
     "language": "python",
     "metadata": {},
     "outputs": [],
     "prompt_number": 10
    },
    {
     "cell_type": "code",
     "collapsed": false,
     "input": [
      "e1_syn2 = pandas.read_excel(e1.path, sheetname=0)\n",
      "e1_syn2['cellLine'] = 'syn2'\n",
      "e1_syn4 = pandas.read_excel(e1.path, sheetname=1)\n",
      "e1_syn4['cellLine'] = 'syn4'\n",
      "e1_syn6 = pandas.read_excel(e1.path, sheetname=1)\n",
      "e1_syn6['cellLine'] = 'syn6'"
     ],
     "language": "python",
     "metadata": {},
     "outputs": [],
     "prompt_number": 11
    },
    {
     "cell_type": "code",
     "collapsed": false,
     "input": [
      "e1_data = pandas.concat([e1_syn2, e1_syn4, e1_syn6], axis=0)\n",
      "e1_data.columns = ['drug', 'conc', 'replicate', 'viability' , 'id', 'cellLine']\n",
      "e1_data = e1_data.drop(['id'], axis=1)\n",
      "e1_data['experiment'] = 'exp_1'\n",
      "e1_data['stage'] = 'stage-1'"
     ],
     "language": "python",
     "metadata": {},
     "outputs": [],
     "prompt_number": 13
    },
    {
     "cell_type": "markdown",
     "metadata": {},
     "source": [
      "### Stage 1: Cleaning Exp 2 & 3 raw data"
     ]
    },
    {
     "cell_type": "code",
     "collapsed": false,
     "input": [
      "e2_synids = synapseutils.getDescendants_synids('syn3097849', syn)\n",
      "e2_data = [ syn.get(i).path for i in e2_synids ]"
     ],
     "language": "python",
     "metadata": {},
     "outputs": [],
     "prompt_number": 15
    },
    {
     "cell_type": "code",
     "collapsed": false,
     "input": [
      "def temp_processData(data):\n",
      "    cellLine = os.path.basename(data).split('_')[0]\n",
      "    data     = pandas.read_excel(data, sheetname=0)\n",
      "    data['cellLine'] = cellLine\n",
      "    return data\n",
      "\n",
      "e2_data = [ temp_processData(data) for data in e2_data]"
     ],
     "language": "python",
     "metadata": {},
     "outputs": [],
     "prompt_number": 8
    },
    {
     "cell_type": "code",
     "collapsed": false,
     "input": [
      "e2_data = pandas.concat(e2_data, axis=0)\n",
      "e2_data.columns = ['drug', 'conc', 'replicate', 'viability' , 'id', 'cellLine']\n",
      "e2_data = e2_data.drop(['id'], axis=1)\n",
      "e2_data['experiment'] = 'exp_2'"
     ],
     "language": "python",
     "metadata": {},
     "outputs": [],
     "prompt_number": 9
    },
    {
     "cell_type": "markdown",
     "metadata": {},
     "source": [
      "## Cleaning Exp3 raw data"
     ]
    },
    {
     "cell_type": "code",
     "collapsed": false,
     "input": [
      "e3_synids = synapseutils.getDescendants_synids('syn2820582', syn)\n",
      "e3_data = [ syn.get(i).path for i in e3_synids ]"
     ],
     "language": "python",
     "metadata": {},
     "outputs": [],
     "prompt_number": 24
    },
    {
     "cell_type": "code",
     "collapsed": false,
     "input": [
      "def temp_processData(data):\n",
      "    cellLine = os.path.basename(data).split('_')[0]\n",
      "    data     = pandas.read_excel(data, sheetname=0)\n",
      "    data['cellLine'] = cellLine\n",
      "    return data\n",
      "\n",
      "e3_data = [ temp_processData(data) for data in e3_data]"
     ],
     "language": "python",
     "metadata": {},
     "outputs": [],
     "prompt_number": 25
    },
    {
     "cell_type": "code",
     "collapsed": false,
     "input": [
      "e3_data = pandas.concat(e3_data, axis=0)\n",
      "e3_data.columns = ['drug', 'conc', 'replicate', 'viability' , 'id', 'cellLine']\n",
      "e3_data = e3_data.drop(['id'], axis=1)\n",
      "e3_data['experiment'] = 'exp_3'"
     ],
     "language": "python",
     "metadata": {},
     "outputs": [],
     "prompt_number": 26
    },
    {
     "cell_type": "markdown",
     "metadata": {},
     "source": [
      "### Stage 2: Exp 1"
     ]
    },
    {
     "cell_type": "code",
     "collapsed": false,
     "input": [
      "s2e1_synids = synapseutils.getDescendants_synids('syn3049797', syn)\n",
      "s2e1_data = [ syn.get(i).path for i in s2e1_synids ]"
     ],
     "language": "python",
     "metadata": {},
     "outputs": [],
     "prompt_number": 25
    },
    {
     "cell_type": "code",
     "collapsed": false,
     "input": [
      "def temp_processData(data):\n",
      "    cellLine = os.path.basename(data).split('_')[0]\n",
      "    data     = pandas.read_excel(data, sheetname=0)\n",
      "    data['cellLine'] = cellLine\n",
      "    return data\n",
      "s2e1_data = [ temp_processData(data) for data in s2e1_data]\n",
      "\n",
      "#create the data frame\n",
      "s2e1_data = pandas.concat(s2e1_data, axis=0, ignore_index=True)"
     ],
     "language": "python",
     "metadata": {},
     "outputs": [],
     "prompt_number": 26
    },
    {
     "cell_type": "code",
     "collapsed": false,
     "input": [
      "s2e1_data = s2e1_data.drop(['Unnamed: 4'],axis=1)\n",
      "accepted_cols = [c for c in s2e1_data.columns if not c.startswith('drug')]\n",
      "s2e1_data = s2e1_data[accepted_cols]\n",
      "s2e1_data.columns = ['viability', 'drug', 'conc', 'cellLine' ,'replicate']\n",
      "s2e1_data['experiment'] = 'exp-1'\n",
      "s2e1_data['stage'] = 'stage-2'"
     ],
     "language": "python",
     "metadata": {},
     "outputs": [],
     "prompt_number": 36
    },
    {
     "cell_type": "markdown",
     "metadata": {},
     "source": [
      "### Stage 2: Exp 2"
     ]
    },
    {
     "cell_type": "code",
     "collapsed": false,
     "input": [
      "s2e2_synids = synapseutils.getDescendants_synids('syn3097612', syn)\n",
      "s2e2_data = [ syn.get(i).path for i in s2e2_synids ]"
     ],
     "language": "python",
     "metadata": {},
     "outputs": [],
     "prompt_number": 63
    },
    {
     "cell_type": "code",
     "collapsed": false,
     "input": [
      "def temp_processData(data):\n",
      "    cellLine = os.path.basename(data).split('_')[0]\n",
      "    data     = pandas.read_excel(data, sheetname=0)\n",
      "    data['cellLine'] = cellLine\n",
      "    return data\n",
      "\n",
      "s2e2_data = [ temp_processData(data) for data in s2e2_data] \n",
      "\n",
      "s2e2_data = pandas.concat(s2e2_data, axis=0, ignore_index=True)"
     ],
     "language": "python",
     "metadata": {},
     "outputs": [],
     "prompt_number": 64
    },
    {
     "cell_type": "code",
     "collapsed": false,
     "input": [
      "s2e2_data = s2e2_data.drop(['Unnamed: 4'],axis=1)\n",
      "accepted_cols = [c for c in s2e2_data.columns if not c.startswith('drug')]\n",
      "s2e2_data = s2e2_data[accepted_cols]\n",
      "s2e2_data.columns = ['drug','conc','replicate', 'viability', 'cellLine' ]\n",
      "s2e2_data['experiment'] = 'exp-2'\n",
      "s2e2_data['stage'] = 'stage-2'"
     ],
     "language": "python",
     "metadata": {},
     "outputs": [],
     "prompt_number": 65
    },
    {
     "cell_type": "markdown",
     "metadata": {},
     "source": [
      "### Merge Data "
     ]
    },
    {
     "cell_type": "code",
     "collapsed": false,
     "input": [
      "#MGH_drugScreen_data = pandas.concat([e1_data,e2_data,e3_data], axis=0)\n",
      "MGH_DrugScreen_data = pandas.concat([s2e1_data, s2e2_data], axis=0, ignore_index=True)"
     ],
     "language": "python",
     "metadata": {},
     "outputs": [],
     "prompt_number": 68
    },
    {
     "cell_type": "markdown",
     "metadata": {},
     "source": [
      "### Testing the merge"
     ]
    },
    {
     "cell_type": "code",
     "collapsed": false,
     "input": [
      "import random\n",
      "sample = random.sample(MGH_DrugScreen_data.index,10)\n",
      "MGH_DrugScreen_data.ix[sample]"
     ],
     "language": "python",
     "metadata": {},
     "outputs": [
      {
       "html": [
        "<div style=\"max-height:1000px;max-width:1500px;overflow:auto;\">\n",
        "<table border=\"1\" class=\"dataframe\">\n",
        "  <thead>\n",
        "    <tr style=\"text-align: right;\">\n",
        "      <th></th>\n",
        "      <th>cellLine</th>\n",
        "      <th>conc</th>\n",
        "      <th>drug</th>\n",
        "      <th>experiment</th>\n",
        "      <th>replicate</th>\n",
        "      <th>stage</th>\n",
        "      <th>viability</th>\n",
        "    </tr>\n",
        "  </thead>\n",
        "  <tbody>\n",
        "    <tr>\n",
        "      <th>1953</th>\n",
        "      <td>  Syn6</td>\n",
        "      <td>  0.200000</td>\n",
        "      <td>   Bortezomib (PS-341)</td>\n",
        "      <td> exp-1</td>\n",
        "      <td> a</td>\n",
        "      <td> stage-2</td>\n",
        "      <td>   6760</td>\n",
        "    </tr>\n",
        "    <tr>\n",
        "      <th>1667</th>\n",
        "      <td>  Syn5</td>\n",
        "      <td>  5.000000</td>\n",
        "      <td>              GDC-0941</td>\n",
        "      <td> exp-1</td>\n",
        "      <td> b</td>\n",
        "      <td> stage-2</td>\n",
        "      <td>  77000</td>\n",
        "    </tr>\n",
        "    <tr>\n",
        "      <th>2868</th>\n",
        "      <td> Syn10</td>\n",
        "      <td> 25.000000</td>\n",
        "      <td>   GSK2126458 (GSK458)</td>\n",
        "      <td> exp-2</td>\n",
        "      <td> a</td>\n",
        "      <td> stage-2</td>\n",
        "      <td>  55600</td>\n",
        "    </tr>\n",
        "    <tr>\n",
        "      <th>1824</th>\n",
        "      <td>  Syn5</td>\n",
        "      <td>  0.000064</td>\n",
        "      <td>               AZD2014</td>\n",
        "      <td> exp-1</td>\n",
        "      <td> b</td>\n",
        "      <td> stage-2</td>\n",
        "      <td> 142200</td>\n",
        "    </tr>\n",
        "    <tr>\n",
        "      <th>1057</th>\n",
        "      <td>  Syn3</td>\n",
        "      <td>  0.000013</td>\n",
        "      <td>               AZD2014</td>\n",
        "      <td> exp-1</td>\n",
        "      <td> b</td>\n",
        "      <td> stage-2</td>\n",
        "      <td> 141400</td>\n",
        "    </tr>\n",
        "    <tr>\n",
        "      <th>3322</th>\n",
        "      <td> Syn12</td>\n",
        "      <td> 25.000000</td>\n",
        "      <td>              CUDC-907</td>\n",
        "      <td> exp-2</td>\n",
        "      <td> b</td>\n",
        "      <td> stage-2</td>\n",
        "      <td>  13680</td>\n",
        "    </tr>\n",
        "    <tr>\n",
        "      <th>1078</th>\n",
        "      <td>  Syn3</td>\n",
        "      <td> 25.000000</td>\n",
        "      <td>                 AR-42</td>\n",
        "      <td> exp-1</td>\n",
        "      <td> b</td>\n",
        "      <td> stage-2</td>\n",
        "      <td>   4640</td>\n",
        "    </tr>\n",
        "    <tr>\n",
        "      <th>904 </th>\n",
        "      <td>  Syn3</td>\n",
        "      <td>  0.001600</td>\n",
        "      <td>              GDC-0941</td>\n",
        "      <td> exp-1</td>\n",
        "      <td> b</td>\n",
        "      <td> stage-2</td>\n",
        "      <td> 142240</td>\n",
        "    </tr>\n",
        "    <tr>\n",
        "      <th>986 </th>\n",
        "      <td>  Syn3</td>\n",
        "      <td>  0.000064</td>\n",
        "      <td>     GDC-0980 (RG7422)</td>\n",
        "      <td> exp-1</td>\n",
        "      <td> a</td>\n",
        "      <td> stage-2</td>\n",
        "      <td> 151120</td>\n",
        "    </tr>\n",
        "    <tr>\n",
        "      <th>833 </th>\n",
        "      <td>  Syn3</td>\n",
        "      <td>  0.008000</td>\n",
        "      <td> Panobinostat (LBH589)</td>\n",
        "      <td> exp-1</td>\n",
        "      <td> a</td>\n",
        "      <td> stage-2</td>\n",
        "      <td>  69200</td>\n",
        "    </tr>\n",
        "  </tbody>\n",
        "</table>\n",
        "</div>"
       ],
       "metadata": {},
       "output_type": "pyout",
       "prompt_number": 69,
       "text": [
        "     cellLine       conc                   drug experiment replicate    stage  \\\n",
        "1953     Syn6   0.200000    Bortezomib (PS-341)      exp-1         a  stage-2   \n",
        "1667     Syn5   5.000000               GDC-0941      exp-1         b  stage-2   \n",
        "2868    Syn10  25.000000    GSK2126458 (GSK458)      exp-2         a  stage-2   \n",
        "1824     Syn5   0.000064                AZD2014      exp-1         b  stage-2   \n",
        "1057     Syn3   0.000013                AZD2014      exp-1         b  stage-2   \n",
        "3322    Syn12  25.000000               CUDC-907      exp-2         b  stage-2   \n",
        "1078     Syn3  25.000000                  AR-42      exp-1         b  stage-2   \n",
        "904      Syn3   0.001600               GDC-0941      exp-1         b  stage-2   \n",
        "986      Syn3   0.000064      GDC-0980 (RG7422)      exp-1         a  stage-2   \n",
        "833      Syn3   0.008000  Panobinostat (LBH589)      exp-1         a  stage-2   \n",
        "\n",
        "      viability  \n",
        "1953       6760  \n",
        "1667      77000  \n",
        "2868      55600  \n",
        "1824     142200  \n",
        "1057     141400  \n",
        "3322      13680  \n",
        "1078       4640  \n",
        "904      142240  \n",
        "986      151120  \n",
        "833       69200  "
       ]
      }
     ],
     "prompt_number": 69
    },
    {
     "cell_type": "markdown",
     "metadata": {},
     "source": [
      "### Push final data to Synapse"
     ]
    },
    {
     "cell_type": "code",
     "collapsed": false,
     "input": [
      "outfile = \"MGH_combined_DrugScreen_data.tsv\"\n",
      "MGH_DrugScreen_data.to_csv(outfile, sep=\"\\t\", index=False)\n",
      "\n",
      "f = synapseclient.File(outfile, parentId=\"syn2773788\")\n",
      "used = s2e1_synids + s2e2_synids #joining to create a single list\n",
      "_ = syn.store(f, used=used)\n",
      "\n",
      "#remove the file\n",
      "! rm $outfile"
     ],
     "language": "python",
     "metadata": {},
     "outputs": [
      {
       "output_type": "stream",
       "stream": "stdout",
       "text": [
        "\n",
        "##################################################\n",
        "Uploading file to Synapse storage\n",
        "##################################################\n",
        "."
       ]
      },
      {
       "output_type": "stream",
       "stream": "stdout",
       "text": [
        "."
       ]
      },
      {
       "output_type": "stream",
       "stream": "stdout",
       "text": [
        ","
       ]
      },
      {
       "output_type": "stream",
       "stream": "stdout",
       "text": [
        "!"
       ]
      },
      {
       "output_type": "stream",
       "stream": "stdout",
       "text": [
        "!\n"
       ]
      },
      {
       "output_type": "stream",
       "stream": "stdout",
       "text": [
        "Upload completed in 3 seconds.\n"
       ]
      }
     ],
     "prompt_number": 70
    },
    {
     "cell_type": "code",
     "collapsed": false,
     "input": [],
     "language": "python",
     "metadata": {},
     "outputs": []
    },
    {
     "cell_type": "code",
     "collapsed": false,
     "input": [],
     "language": "python",
     "metadata": {},
     "outputs": []
    },
    {
     "cell_type": "code",
     "collapsed": false,
     "input": [],
     "language": "python",
     "metadata": {},
     "outputs": []
    },
    {
     "cell_type": "code",
     "collapsed": false,
     "input": [],
     "language": "python",
     "metadata": {},
     "outputs": []
    }
   ],
   "metadata": {}
  }
 ]
}