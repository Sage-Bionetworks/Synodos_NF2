{
 "metadata": {
  "name": "",
  "signature": "sha256:abcc137ed3cd13f7f20ef2ade9469efd89a970d66d649638fa219fa4d506564c"
 },
 "nbformat": 3,
 "nbformat_minor": 0,
 "worksheets": [
  {
   "cells": [
    {
     "cell_type": "code",
     "collapsed": false,
     "input": [
      "import os\n",
      "import sys\n",
      "import synapseclient\n",
      "import pandas\n",
      "import json\n",
      "import numpy as np\n",
      "import tempfile\n",
      "import xlrd\n",
      "%load_ext autoreload\n",
      "%autoreload 2"
     ],
     "language": "python",
     "metadata": {},
     "outputs": [
      {
       "output_type": "stream",
       "stream": "stdout",
       "text": [
        "The autoreload extension is already loaded. To reload it, use:\n",
        "  %reload_ext autoreload\n"
       ]
      }
     ],
     "prompt_number": 22
    },
    {
     "cell_type": "code",
     "collapsed": false,
     "input": [
      "sys.path.append(os.environ['HOME'] + \"/dev/appys/lib/\")\n",
      "import utils\n",
      "import synapseutils\n"
     ],
     "language": "python",
     "metadata": {},
     "outputs": [],
     "prompt_number": 23
    },
    {
     "cell_type": "code",
     "collapsed": false,
     "input": [
      "syn = synapseclient.login()"
     ],
     "language": "python",
     "metadata": {},
     "outputs": [
      {
       "output_type": "stream",
       "stream": "stderr",
       "text": [
        "Welcome, Abhishek Pratap!\n"
       ]
      }
     ],
     "prompt_number": 24
    },
    {
     "cell_type": "markdown",
     "metadata": {},
     "source": [
      "### integrate info from knowledgeBase + CCLE + SANGER Drug dbase for the list of selected 20 Drugs"
     ]
    },
    {
     "cell_type": "code",
     "collapsed": false,
     "input": [
      "integrated_knowledgeBase = 'syn2482613'\n",
      "integrated_knowledgeBase = syn.get(integrated_knowledgeBase)\n",
      "integrated_knowledgeBase = pandas.DataFrame.from_csv(integrated_knowledgeBase.path, sep=\"\\t\").reset_index()\n",
      "\n",
      "#remove rows with null entries for therapeutic context\n",
      "integrated_knowledgeBase = integrated_knowledgeBase[~integrated_knowledgeBase['therapeutic context'].isnull()]\n"
     ],
     "language": "python",
     "metadata": {},
     "outputs": [],
     "prompt_number": 25
    },
    {
     "cell_type": "code",
     "collapsed": false,
     "input": [
      "#list of synondos drugs\n",
      "synodos_drugs = pandas.DataFrame.from_csv(os.environ['HOME'] + \"/dev/Synodos_NF2/Synodos_Drugs.csv\")\n",
      "synodos_drugs = synodos_drugs.reset_index()\n",
      "synodos_drugs.head()"
     ],
     "language": "python",
     "metadata": {},
     "outputs": [
      {
       "html": [
        "<div style=\"max-height:1000px;max-width:1500px;overflow:auto;\">\n",
        "<table border=\"1\" class=\"dataframe\">\n",
        "  <thead>\n",
        "    <tr style=\"text-align: right;\">\n",
        "      <th></th>\n",
        "      <th>Drug</th>\n",
        "      <th>Company</th>\n",
        "      <th> CAS</th>\n",
        "      <th>Note</th>\n",
        "      <th>Matched drugs in knowledge database</th>\n",
        "    </tr>\n",
        "  </thead>\n",
        "  <tbody>\n",
        "    <tr>\n",
        "      <th>0</th>\n",
        "      <td>          trametinib</td>\n",
        "      <td>              GSK</td>\n",
        "      <td> 871700-17-3</td>\n",
        "      <td> Trametinib (GSK1120212) is a highly specific a...</td>\n",
        "      <td>                        trametinib, MEK inhibitors</td>\n",
        "    </tr>\n",
        "    <tr>\n",
        "      <th>1</th>\n",
        "      <td>             AZD6244</td>\n",
        "      <td>     Astra Zeneca</td>\n",
        "      <td> 606143-52-6</td>\n",
        "      <td> Selumetinib (AZD6244) is a potent, highly sele...</td>\n",
        "      <td>                        trametinib, MEK inhibitors</td>\n",
        "    </tr>\n",
        "    <tr>\n",
        "      <th>2</th>\n",
        "      <td> perifosine/KRX-0401</td>\n",
        "      <td> Aeterna Zentaris</td>\n",
        "      <td> 157716-52-4</td>\n",
        "      <td> Perifosine (KRX-0401) is a novel\ufffdAkt\ufffdinhibitor...</td>\n",
        "      <td>                                              None</td>\n",
        "    </tr>\n",
        "    <tr>\n",
        "      <th>3</th>\n",
        "      <td>            GDC-0941</td>\n",
        "      <td>  Genentech/Roche</td>\n",
        "      <td> 957054-30-7</td>\n",
        "      <td> GDC-0941 is a potent inhibitor of\ufffdPI3K_/_\ufffdwith...</td>\n",
        "      <td> PI3K alpha inhibitors, PI3K beta inhibitors, P...</td>\n",
        "    </tr>\n",
        "    <tr>\n",
        "      <th>4</th>\n",
        "      <td>          everolimus</td>\n",
        "      <td>         Novartis</td>\n",
        "      <td> 159351-69-6</td>\n",
        "      <td> Everolimus (RAD001) is an mTOR inhibitor of\ufffdFK...</td>\n",
        "      <td> mTOR inhibitors, everolimus, sirolimus, rapamycin</td>\n",
        "    </tr>\n",
        "  </tbody>\n",
        "</table>\n",
        "<p>5 rows \u00d7 5 columns</p>\n",
        "</div>"
       ],
       "metadata": {},
       "output_type": "pyout",
       "prompt_number": 40,
       "text": [
        "                  Drug           Company          CAS  \\\n",
        "0           trametinib               GSK  871700-17-3   \n",
        "1              AZD6244      Astra Zeneca  606143-52-6   \n",
        "2  perifosine/KRX-0401  Aeterna Zentaris  157716-52-4   \n",
        "3             GDC-0941   Genentech/Roche  957054-30-7   \n",
        "4           everolimus          Novartis  159351-69-6   \n",
        "\n",
        "                                                Note  \\\n",
        "0  Trametinib (GSK1120212) is a highly specific a...   \n",
        "1  Selumetinib (AZD6244) is a potent, highly sele...   \n",
        "2  Perifosine (KRX-0401) is a novel\ufffdAkt\ufffdinhibitor...   \n",
        "3  GDC-0941 is a potent inhibitor of\ufffdPI3K_/_\ufffdwith...   \n",
        "4  Everolimus (RAD001) is an mTOR inhibitor of\ufffdFK...   \n",
        "\n",
        "                 Matched drugs in knowledge database  \n",
        "0                         trametinib, MEK inhibitors  \n",
        "1                         trametinib, MEK inhibitors  \n",
        "2                                               None  \n",
        "3  PI3K alpha inhibitors, PI3K beta inhibitors, P...  \n",
        "4  mTOR inhibitors, everolimus, sirolimus, rapamycin  \n",
        "\n",
        "[5 rows x 5 columns]"
       ]
      }
     ],
     "prompt_number": 40
    },
    {
     "cell_type": "code",
     "collapsed": false,
     "input": [
      "series_list = []\n",
      "\n",
      "for count, row in synodos_drugs.iterrows():\n",
      "\n",
      "    temp_dfs = []\n",
      "    for category in str(row['Matched drugs in knowledge database']).split(','):\n",
      "        category = category.strip()\n",
      "        df = integrated_knowledgeBase[integrated_knowledgeBase['therapeutic context'].str.contains(category)]\n",
      "        temp_dfs.append(df)\n",
      "    df = pandas.concat(temp_dfs,axis=0)\n",
      "    df = df.drop(['therapeutic context'], axis=1)\n",
      "    \n",
      "    series = pandas.Series()\n",
      "    for col in df.columns:\n",
      "        line = ', '.join([str(x) for x in df[col].unique()])\n",
      "        series[col] = line\n",
      "    series = pandas.concat([row, series])\n",
      "    series_list.append(series)"
     ],
     "language": "python",
     "metadata": {},
     "outputs": [],
     "prompt_number": 102
    },
    {
     "cell_type": "code",
     "collapsed": false,
     "input": [
      "df = pandas.DataFrame.from_records(series_list)\n",
      "#df = df[['origin', 'gene']]\n",
      "df = df.drop(['variant', 'Note', 'description', 'effect', 'pathway', \n",
      "              'association', 'status', 'evidence', 'PMID'], axis=1)\n",
      "\n",
      "df = df[~df.Drug.isnull()]"
     ],
     "language": "python",
     "metadata": {},
     "outputs": [],
     "prompt_number": 107
    },
    {
     "cell_type": "code",
     "collapsed": false,
     "input": [
      "temp_x = synapseutils.push_DF_to_synLeaderboard(df, wikiEntity='syn2443538', syn=syn)"
     ],
     "language": "python",
     "metadata": {},
     "outputs": [],
     "prompt_number": 108
    },
    {
     "cell_type": "code",
     "collapsed": false,
     "input": [],
     "language": "python",
     "metadata": {},
     "outputs": []
    }
   ],
   "metadata": {}
  }
 ]
}