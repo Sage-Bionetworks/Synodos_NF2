{
 "cells": [
  {
   "cell_type": "code",
   "execution_count": 1,
   "metadata": {
    "collapsed": true
   },
   "outputs": [],
   "source": [
    "import synapseclient\n",
    "import pandas\n"
   ]
  },
  {
   "cell_type": "code",
   "execution_count": 2,
   "metadata": {
    "collapsed": false
   },
   "outputs": [
    {
     "name": "stdout",
     "output_type": "stream",
     "text": [
      "Welcome, Abhishek Pratap!\n",
      "\n"
     ]
    }
   ],
   "source": [
    "#Login to synapse. username/password can be pre-set. see synapse R client page for details\n",
    "syn = synapseclient.login()"
   ]
  },
  {
   "cell_type": "code",
   "execution_count": 10,
   "metadata": {
    "collapsed": false
   },
   "outputs": [
    {
     "name": "stdout",
     "output_type": "stream",
     "text": [
      "#drugs - 19\n"
     ]
    }
   ],
   "source": [
    "#get the processed drug screen data\n",
    "processed_drugScreen_data_synId = \"syn6138237\"\n",
    "data_path = syn.get(processed_drugScreen_data_synId).path\n",
    "data = pandas.read_csv(data_path, sep=\"\\t\")\n",
    "print('#drugs - %s' % len(data.drug.unique()))"
   ]
  },
  {
   "cell_type": "code",
   "execution_count": 14,
   "metadata": {
    "collapsed": false
   },
   "outputs": [
    {
     "name": "stdout",
     "output_type": "stream",
     "text": [
      " [####################]100.00%     1/1  Done...\n",
      "Downloading  [####################]100.00%     1.3kB/1.3kB query_results.csv Done...\n",
      "Downloaded   [####################]100.00%     1.3kB/1.3kB query_results.csv Done...\n",
      "    "
     ]
    }
   ],
   "source": [
    "### Get all the meningioma cell lines\n",
    "cellline_metadata_tables = 'syn6138288'\n",
    "meningioma_lines = syn.tableQuery(\"select * from %s where center = 'MGH'\" % cellline_metadata_tables)\n",
    "meningioma_lines.asDataFrame()"
   ]
  },
  {
   "cell_type": "code",
   "execution_count": 17,
   "metadata": {
    "collapsed": false
   },
   "outputs": [
    {
     "data": {
      "text/html": [
       "<div>\n",
       "<table border=\"1\" class=\"dataframe\">\n",
       "  <thead>\n",
       "    <tr style=\"text-align: right;\">\n",
       "      <th></th>\n",
       "      <th>ID</th>\n",
       "      <th>center</th>\n",
       "      <th>organism</th>\n",
       "      <th>Cell Line Type</th>\n",
       "      <th>Grade</th>\n",
       "      <th>NF2 Status</th>\n",
       "      <th>description</th>\n",
       "    </tr>\n",
       "  </thead>\n",
       "  <tbody>\n",
       "    <tr>\n",
       "      <th>0_0</th>\n",
       "      <td>Syn1</td>\n",
       "      <td>MGH</td>\n",
       "      <td>human</td>\n",
       "      <td>Arachnoid cells (NF2 + CRISPR), isogenic clone</td>\n",
       "      <td>n/a</td>\n",
       "      <td>positive</td>\n",
       "      <td>NaN</td>\n",
       "    </tr>\n",
       "    <tr>\n",
       "      <th>1_0</th>\n",
       "      <td>Syn2</td>\n",
       "      <td>MGH</td>\n",
       "      <td>human</td>\n",
       "      <td>Arachnoid cells (NF2 + CRISPR), isogenic clone</td>\n",
       "      <td>n/a</td>\n",
       "      <td>positive</td>\n",
       "      <td>NaN</td>\n",
       "    </tr>\n",
       "    <tr>\n",
       "      <th>2_0</th>\n",
       "      <td>Syn3</td>\n",
       "      <td>MGH</td>\n",
       "      <td>human</td>\n",
       "      <td>Arachnoid cells (NF2 - CRISPR), isogenic clone</td>\n",
       "      <td>n/a</td>\n",
       "      <td>negative</td>\n",
       "      <td>NaN</td>\n",
       "    </tr>\n",
       "    <tr>\n",
       "      <th>3_0</th>\n",
       "      <td>Syn4</td>\n",
       "      <td>MGH</td>\n",
       "      <td>human</td>\n",
       "      <td>Arachnoid cells (NF2 - CRISPR), isogenic clone</td>\n",
       "      <td>n/a</td>\n",
       "      <td>negative</td>\n",
       "      <td>NaN</td>\n",
       "    </tr>\n",
       "    <tr>\n",
       "      <th>4_0</th>\n",
       "      <td>Syn5</td>\n",
       "      <td>MGH</td>\n",
       "      <td>human</td>\n",
       "      <td>Arachnoid cells (NF2 - CRISPR), isogenic clone</td>\n",
       "      <td>n/a</td>\n",
       "      <td>negative</td>\n",
       "      <td>NaN</td>\n",
       "    </tr>\n",
       "    <tr>\n",
       "      <th>5_0</th>\n",
       "      <td>Syn6</td>\n",
       "      <td>MGH</td>\n",
       "      <td>human</td>\n",
       "      <td>BenMen1, Immortalized Meningioma cell line</td>\n",
       "      <td>NaN</td>\n",
       "      <td>negative</td>\n",
       "      <td>NaN</td>\n",
       "    </tr>\n",
       "    <tr>\n",
       "      <th>6_0</th>\n",
       "      <td>Syn7</td>\n",
       "      <td>MGH</td>\n",
       "      <td>human</td>\n",
       "      <td>Primary Meningioma cell line</td>\n",
       "      <td>I</td>\n",
       "      <td>negative</td>\n",
       "      <td>NaN</td>\n",
       "    </tr>\n",
       "    <tr>\n",
       "      <th>7_0</th>\n",
       "      <td>Syn8</td>\n",
       "      <td>MGH</td>\n",
       "      <td>human</td>\n",
       "      <td>Primary Meningioma cell line</td>\n",
       "      <td>I</td>\n",
       "      <td>negative</td>\n",
       "      <td>NaN</td>\n",
       "    </tr>\n",
       "    <tr>\n",
       "      <th>8_0</th>\n",
       "      <td>Syn9</td>\n",
       "      <td>MGH</td>\n",
       "      <td>human</td>\n",
       "      <td>Primary Meningioma cell line</td>\n",
       "      <td>I</td>\n",
       "      <td>negative</td>\n",
       "      <td>NaN</td>\n",
       "    </tr>\n",
       "    <tr>\n",
       "      <th>9_0</th>\n",
       "      <td>Syn10</td>\n",
       "      <td>MGH</td>\n",
       "      <td>human</td>\n",
       "      <td>Primary Meningioma cell line</td>\n",
       "      <td>I</td>\n",
       "      <td>negative</td>\n",
       "      <td>NaN</td>\n",
       "    </tr>\n",
       "    <tr>\n",
       "      <th>10_0</th>\n",
       "      <td>Syn11</td>\n",
       "      <td>MGH</td>\n",
       "      <td>human</td>\n",
       "      <td>Primary Meningioma cell line</td>\n",
       "      <td>II</td>\n",
       "      <td>negative</td>\n",
       "      <td>NaN</td>\n",
       "    </tr>\n",
       "    <tr>\n",
       "      <th>11_0</th>\n",
       "      <td>Syn12</td>\n",
       "      <td>MGH</td>\n",
       "      <td>human</td>\n",
       "      <td>Primary Meningioma cell line</td>\n",
       "      <td>II</td>\n",
       "      <td>negative</td>\n",
       "      <td>NaN</td>\n",
       "    </tr>\n",
       "    <tr>\n",
       "      <th>12_0</th>\n",
       "      <td>Syn13</td>\n",
       "      <td>MGH</td>\n",
       "      <td>human</td>\n",
       "      <td>Primary Meningioma cell line</td>\n",
       "      <td>II</td>\n",
       "      <td>negative</td>\n",
       "      <td>NaN</td>\n",
       "    </tr>\n",
       "    <tr>\n",
       "      <th>13_0</th>\n",
       "      <td>Syn14</td>\n",
       "      <td>MGH</td>\n",
       "      <td>human</td>\n",
       "      <td>Primary Meningioma cell line</td>\n",
       "      <td>II</td>\n",
       "      <td>negative</td>\n",
       "      <td>NaN</td>\n",
       "    </tr>\n",
       "  </tbody>\n",
       "</table>\n",
       "</div>"
      ],
      "text/plain": [
       "         ID center organism                                  Cell Line Type  \\\n",
       "0_0    Syn1    MGH    human  Arachnoid cells (NF2 + CRISPR), isogenic clone   \n",
       "1_0    Syn2    MGH    human  Arachnoid cells (NF2 + CRISPR), isogenic clone   \n",
       "2_0    Syn3    MGH    human  Arachnoid cells (NF2 - CRISPR), isogenic clone   \n",
       "3_0    Syn4    MGH    human  Arachnoid cells (NF2 - CRISPR), isogenic clone   \n",
       "4_0    Syn5    MGH    human  Arachnoid cells (NF2 - CRISPR), isogenic clone   \n",
       "5_0    Syn6    MGH    human      BenMen1, Immortalized Meningioma cell line   \n",
       "6_0    Syn7    MGH    human                    Primary Meningioma cell line   \n",
       "7_0    Syn8    MGH    human                    Primary Meningioma cell line   \n",
       "8_0    Syn9    MGH    human                    Primary Meningioma cell line   \n",
       "9_0   Syn10    MGH    human                    Primary Meningioma cell line   \n",
       "10_0  Syn11    MGH    human                    Primary Meningioma cell line   \n",
       "11_0  Syn12    MGH    human                    Primary Meningioma cell line   \n",
       "12_0  Syn13    MGH    human                    Primary Meningioma cell line   \n",
       "13_0  Syn14    MGH    human                    Primary Meningioma cell line   \n",
       "\n",
       "     Grade NF2 Status  description  \n",
       "0_0    n/a   positive          NaN  \n",
       "1_0    n/a   positive          NaN  \n",
       "2_0    n/a   negative          NaN  \n",
       "3_0    n/a   negative          NaN  \n",
       "4_0    n/a   negative          NaN  \n",
       "5_0    NaN   negative          NaN  \n",
       "6_0      I   negative          NaN  \n",
       "7_0      I   negative          NaN  \n",
       "8_0      I   negative          NaN  \n",
       "9_0      I   negative          NaN  \n",
       "10_0    II   negative          NaN  \n",
       "11_0    II   negative          NaN  \n",
       "12_0    II   negative          NaN  \n",
       "13_0    II   negative          NaN  "
      ]
     },
     "execution_count": 17,
     "metadata": {},
     "output_type": "execute_result"
    }
   ],
   "source": [
    "meningioma_lines.asDataFrame()"
   ]
  },
  {
   "cell_type": "code",
   "execution_count": 12,
   "metadata": {
    "collapsed": false
   },
   "outputs": [
    {
     "data": {
      "text/plain": [
       "'select * from syn6138288'"
      ]
     },
     "execution_count": 12,
     "metadata": {},
     "output_type": "execute_result"
    }
   ],
   "source": [
    "\"select * from %s\" % cellline_metadata_tables"
   ]
  },
  {
   "cell_type": "code",
   "execution_count": null,
   "metadata": {
    "collapsed": true
   },
   "outputs": [],
   "source": [
    "syn.tableQuery"
   ]
  }
 ],
 "metadata": {
  "kernelspec": {
   "display_name": "Python 2",
   "language": "python",
   "name": "python2"
  },
  "language_info": {
   "codemirror_mode": {
    "name": "ipython",
    "version": 2
   },
   "file_extension": ".py",
   "mimetype": "text/x-python",
   "name": "python",
   "nbconvert_exporter": "python",
   "pygments_lexer": "ipython2",
   "version": "2.7.11"
  }
 },
 "nbformat": 4,
 "nbformat_minor": 0
}
