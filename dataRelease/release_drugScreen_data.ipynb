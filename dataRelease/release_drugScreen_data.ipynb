{
 "cells": [
  {
   "cell_type": "code",
   "execution_count": null,
   "metadata": {
    "collapsed": false
   },
   "outputs": [],
   "source": [
    "import synapseclient\n",
    "syn = synapseclient.login()\n",
    "import pandas "
   ]
  },
  {
   "cell_type": "code",
   "execution_count": null,
   "metadata": {
    "collapsed": false
   },
   "outputs": [],
   "source": [
    "import synapseutils"
   ]
  },
  {
   "cell_type": "code",
   "execution_count": null,
   "metadata": {
    "collapsed": true
   },
   "outputs": [],
   "source": [
    "NF2_Public_project = 'syn2343195'\n",
    "NF2_interval_project = 'syn2343195'"
   ]
  },
  {
   "cell_type": "markdown",
   "metadata": {},
   "source": [
    "### Create Final Drug Screen data"
   ]
  },
  {
   "cell_type": "markdown",
   "metadata": {},
   "source": [
    "1. drugscreen processed data"
   ]
  },
  {
   "cell_type": "code",
   "execution_count": 45,
   "metadata": {
    "collapsed": false
   },
   "outputs": [
    {
     "name": "stdout",
     "output_type": "stream",
     "text": [
      "\n",
      "##################################################\n",
      " Uploading file to Synapse storage \n",
      "##################################################\n",
      "Uploading [####################]100.00%     44.1kB/44.1kB Synodos_DrugScreen_processed_data.tsv Done...\n",
      "    "
     ]
    }
   ],
   "source": [
    "MGH_drugscreen_synid = 'syn2773794'\n",
    "UCF_drugscreen_synid = 'syn2773891'\n",
    "MGH_drugscreen_processed = pandas.read_csv(syn.get(MGH_drugscreen_synid).path, sep=\"\\t\")\n",
    "UCF_drugscreen_processed = pandas.read_csv(syn.get(UCF_drugscreen_synid).path, sep=\"\\t\")\n",
    "UCF_drugscreen_processed['center'] = 'UCF'\n",
    "MGH_drugscreen_processed['center'] = 'MGH'\n",
    "final_drugscreen_processed = pandas.concat([MGH_drugscreen_processed, UCF_drugscreen_processed], axis=0)\n",
    "selected_columns = ['center', 'cellLine', 'drug', 'experiment', 'stage', 'Simpson', 'trapezoid' ,'goodNess_of_fit' ,\n",
    "               'IC50', 'hillSlope', 'maxEfficacy', 'bottom_asymptote','stdErr' ]\n",
    "final_drugscreen_processed.to_csv(\"Synodos_DrugScreen_processed_data.tsv\", sep=\"\\t\", columns= selected_columns, index=False)\n",
    "final_drugscreen_file = syn.store(synapseclient.File(\"Synodos_DrugScreen_processed_data.tsv\", parentId = \"syn6138218\"),\n",
    "                                  used=[MGH_drugscreen_synid, UCF_drugscreen_synid])"
   ]
  },
  {
   "cell_type": "code",
   "execution_count": 46,
   "metadata": {
    "collapsed": false
   },
   "outputs": [],
   "source": [
    "! rm \"Synodos_DrugScreen_processed_data.tsv\""
   ]
  },
  {
   "cell_type": "code",
   "execution_count": 48,
   "metadata": {
    "collapsed": false
   },
   "outputs": [
    {
     "name": "stdout",
     "output_type": "stream",
     "text": [
      "Copied syn6138226 to syn6138237\n"
     ]
    },
    {
     "data": {
      "text/plain": [
       "{u'syn6138226': u'syn6138237'}"
      ]
     },
     "execution_count": 48,
     "metadata": {},
     "output_type": "execute_result"
    }
   ],
   "source": [
    "synapseutils.copy(syn, final_drugscreen_file.id,'syn6138230')"
   ]
  },
  {
   "cell_type": "markdown",
   "metadata": {},
   "source": [
    "Drugscreen Raw Data"
   ]
  },
  {
   "cell_type": "code",
   "execution_count": 61,
   "metadata": {
    "collapsed": false
   },
   "outputs": [
    {
     "name": "stdout",
     "output_type": "stream",
     "text": [
      "\n",
      "##################################################\n",
      " Uploading file to Synapse storage \n",
      "##################################################\n",
      "Uploading [####################]100.00%     1.5MB/1.5MB Synodos_DrugScreen_combined_rawData.tsv Done...\n",
      "    "
     ]
    }
   ],
   "source": [
    "MGH_drugscreen_rawdata_synid = 'syn2773792'\n",
    "UCF_drugscreen_rawdata_synid = 'syn2773870'\n",
    "MGH_drugscreen_rawdata = pandas.read_csv(syn.get(MGH_drugscreen_rawdata_synid).path, sep=\"\\t\")\n",
    "UCF_drugscreen_rawdata = pandas.read_csv(syn.get(UCF_drugscreen_rawdata_synid).path, sep=\"\\t\")\n",
    "MGH_drugscreen_rawdata['center'] = 'UCF'\n",
    "MGH_drugscreen_processed['center'] = 'MGH'\n",
    "final_drugscreen_raw = pandas.concat([MGH_drugscreen_rawdata, UCF_drugscreen_rawdata], axis=0)\n",
    "final_drugscreen_raw.to_csv(\"Synodos_DrugScreen_combined_rawData.tsv\", sep=\"\\t\", index=False)\n",
    "final_drugscreen_raw_file = syn.store(synapseclient.File(\"Synodos_DrugScreen_combined_rawData.tsv\", parentId = \"syn6138218\"),\n",
    "                                  used=[MGH_drugscreen_rawdata_synid, UCF_drugscreen_rawdata_synid])"
   ]
  },
  {
   "cell_type": "code",
   "execution_count": 62,
   "metadata": {
    "collapsed": false
   },
   "outputs": [],
   "source": [
    "! rm \"Synodos_DrugScreen_combined_rawData.tsv\""
   ]
  },
  {
   "cell_type": "code",
   "execution_count": 64,
   "metadata": {
    "collapsed": false
   },
   "outputs": [
    {
     "name": "stdout",
     "output_type": "stream",
     "text": [
      "Copied syn6138245 to syn6138251\n"
     ]
    },
    {
     "data": {
      "text/plain": [
       "{u'syn6138245': u'syn6138251'}"
      ]
     },
     "execution_count": 64,
     "metadata": {},
     "output_type": "execute_result"
    }
   ],
   "source": [
    "synapseutils.copy(syn, final_drugscreen_raw_file.id,'syn6138234')"
   ]
  },
  {
   "cell_type": "markdown",
   "metadata": {},
   "source": [
    "### meta data tables"
   ]
  },
  {
   "cell_type": "code",
   "execution_count": 65,
   "metadata": {
    "collapsed": false
   },
   "outputs": [
    {
     "name": "stdout",
     "output_type": "stream",
     "text": [
      "Getting table syn3275123\n",
      " [####################]100.00%     1/1  Done...\n",
      "Downloading  [####################]100.00%     3.3kB/3.3kB query_results.csv Done...\n",
      "Downloaded   [####################]100.00%     3.3kB/3.3kB query_results.csv Done...\n",
      "    Created new table using schema Synodos CellLines\n",
      "Uploading [####################]100.00%     2.7kB/2.7kB table.csv Done...\n",
      " [####################]100.00%     1/1  Done...\n",
      "    Copied syn3275123 to syn6138288\n"
     ]
    },
    {
     "data": {
      "text/plain": [
       "{u'syn3275123': u'syn6138288'}"
      ]
     },
     "execution_count": 65,
     "metadata": {},
     "output_type": "execute_result"
    }
   ],
   "source": [
    "synodos_celllines_table = 'syn3275123'\n",
    "synapseutils.copy(syn, synodos_celllines_table, 'syn2343195')"
   ]
  },
  {
   "cell_type": "markdown",
   "metadata": {},
   "source": [
    "### Synodos compounds"
   ]
  },
  {
   "cell_type": "code",
   "execution_count": 67,
   "metadata": {
    "collapsed": false
   },
   "outputs": [
    {
     "name": "stdout",
     "output_type": "stream",
     "text": [
      "Getting table syn3105963\n",
      " [####################]100.00%     1/1  Done...\n",
      "Downloading  [####################]100.00%     3.2kB/3.2kB query_results.csv Done...\n",
      "Downloaded   [####################]100.00%     3.2kB/3.2kB query_results.csv Done...\n",
      "    Created new table using schema Synodos Compounds\n",
      "Uploading [####################]100.00%     2.9kB/2.9kB table.csv Done...\n",
      " [####################]100.00%     1/1  Done...\n",
      "    Copied syn3105963 to syn6138291\n"
     ]
    },
    {
     "data": {
      "text/plain": [
       "{u'syn3105963': u'syn6138291'}"
      ]
     },
     "execution_count": 67,
     "metadata": {},
     "output_type": "execute_result"
    }
   ],
   "source": [
    "synodos_compounds_table = 'syn3105963'\n",
    "synapseutils.copy(syn, synodos_compounds_table, 'syn2343195')"
   ]
  },
  {
   "cell_type": "code",
   "execution_count": null,
   "metadata": {
    "collapsed": true
   },
   "outputs": [],
   "source": []
  }
 ],
 "metadata": {
  "kernelspec": {
   "display_name": "Python 2",
   "language": "python",
   "name": "python2"
  },
  "language_info": {
   "codemirror_mode": {
    "name": "ipython",
    "version": 2
   },
   "file_extension": ".py",
   "mimetype": "text/x-python",
   "name": "python",
   "nbconvert_exporter": "python",
   "pygments_lexer": "ipython2",
   "version": "2.7.11"
  }
 },
 "nbformat": 4,
 "nbformat_minor": 0
}
