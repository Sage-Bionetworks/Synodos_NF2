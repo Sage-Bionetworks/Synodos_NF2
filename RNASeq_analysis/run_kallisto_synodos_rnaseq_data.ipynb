{
 "cells": [
  {
   "cell_type": "code",
   "execution_count": null,
   "metadata": {
    "collapsed": true
   },
   "outputs": [],
   "source": [
    "import os\n",
    "import sys\n",
    "import re\n",
    "\n",
    "sys.path.append('/home/apratap/dev/appys/lib/')"
   ]
  },
  {
   "cell_type": "code",
   "execution_count": null,
   "metadata": {
    "collapsed": false
   },
   "outputs": [],
   "source": [
    "import utils"
   ]
  },
  {
   "cell_type": "code",
   "execution_count": null,
   "metadata": {
    "collapsed": false
   },
   "outputs": [],
   "source": [
    "bams = utils.get_FilesList('/scratch/tyu/Batch1Alignments/combined/', pattern=\".*.bam$\")"
   ]
  },
  {
   "cell_type": "markdown",
   "metadata": {},
   "source": [
    "### convert bam to namesorted"
   ]
  },
  {
   "cell_type": "code",
   "execution_count": null,
   "metadata": {
    "collapsed": false
   },
   "outputs": [],
   "source": [
    "for bam in bams:\n",
    "    bam_path = os.path.dirname(bam)\n",
    "    bam_name = os.path.basename(bam)\n",
    "    job_name = bam_name.replace('.bam','')\n",
    "    temp_file_prefix = bam.replace('.bam', '') + '.namesort'\n",
    "    outfile = bam.replace('.bam', '') + '.namesorted.bam'\n",
    "    log = bam + '.log'\n",
    "    #SGE command\n",
    "    command = 'qsub -V -b yes -j yes -pe threads 4 -N %s -o %s \"samtools sort -n -O bam -T %s -@ 4 -o %s %s\"' % (job_name, log,  temp_file_prefix, outfile, bam)\n",
    "    #! $command\n",
    "    print command"
   ]
  },
  {
   "cell_type": "markdown",
   "metadata": {},
   "source": [
    "### bam to fastq"
   ]
  },
  {
   "cell_type": "code",
   "execution_count": null,
   "metadata": {
    "collapsed": false
   },
   "outputs": [],
   "source": [
    "name_sortedbams = utils.get_FilesList('/scratch/tyu/Batch1Alignments/combined/', pattern=\".namesorted.bam\")"
   ]
  },
  {
   "cell_type": "code",
   "execution_count": null,
   "metadata": {
    "collapsed": false
   },
   "outputs": [],
   "source": [
    "for bam in name_sortedbams:\n",
    "    job_name = os.path.basename(bam).replace('.namesorted.bam', '')\n",
    "    prefix = bam.replace('.namesorted.bam', '')\n",
    "    read1 = prefix + '_1.fq'\n",
    "    read2 = prefix + '_2.fq'\n",
    "    logfile = prefix + '.bamtofastq.log'\n",
    "    command = 'qsub -V -b yes -j yes -N %s -o %s \"bedtools bamtofastq -i %s -fq %s -fq2 %s\"'  % (job_name, logfile, bam, read1,read2)\n",
    "    #! $command\n",
    "    print command"
   ]
  },
  {
   "cell_type": "markdown",
   "metadata": {},
   "source": [
    "### Run Kallisto"
   ]
  },
  {
   "cell_type": "code",
   "execution_count": null,
   "metadata": {
    "collapsed": false
   },
   "outputs": [],
   "source": [
    "fastq_prefixes = utils.get_FilesList('/scratch/tyu/Batch1Alignments/combined/', pattern=\".*.bamtofastq.log\")\n",
    "\n",
    "mouse_fastq = [f for f in fastq_prefixes if 'MS' in f]\n",
    "human_fastq = [f for f in fastq_prefixes if 'MS' not in f]"
   ]
  },
  {
   "cell_type": "code",
   "execution_count": null,
   "metadata": {
    "collapsed": true
   },
   "outputs": [],
   "source": [
    "kallisto_hg19_index = \"/home/apratap/reference/hg19/kallisto_index_gencodeV24/gencode.v24.lncRNA_N_coding\"\n",
    "kallisto_mm_index = \"/home/apratap/reference/mm10/Annotation/kallisto_gencode/gencode.vM9.coding_and_lncRNA\"\n",
    "kallisto_exec = \"/home/apratap/softwares/kallisto/kallisto_linux-v0.42.4/kallisto\"\n",
    "kallisto_output_dir = \"/scratch/tyu/Batch1Alignments/kallisto/\""
   ]
  },
  {
   "cell_type": "markdown",
   "metadata": {},
   "source": [
    "### run human fastq"
   ]
  },
  {
   "cell_type": "code",
   "execution_count": 9,
   "metadata": {
    "collapsed": false
   },
   "outputs": [
    {
     "name": "stdout",
     "output_type": "stream",
     "text": [
      "Your job 450015 (\"MTa450-16\") has been submitted\n",
      "Your job 450016 (\"AC034-trimmed\") has been submitted\n",
      "Your job 450017 (\"MTa451-15\") has been submitted\n",
      "Your job 450018 (\"HS01-8\") has been submitted\n",
      "Your job 450019 (\"MTa450-1\") has been submitted\n",
      "Your job 450020 (\"AC029-2\") has been submitted\n",
      "Your job 450021 (\"AC027-trimmed\") has been submitted\n",
      "Your job 450022 (\"MN514-trimmed\") has been submitted\n",
      "Your job 450023 (\"AC029-1\") has been submitted\n",
      "Your job 450024 (\"AC7_A3-trimmed\") has been submitted\n",
      "Your job 450025 (\"Syn4-3\") has been submitted\n",
      "Your job 450026 (\"MN571-2\") has been submitted\n",
      "Your job 450027 (\"MN572-trimmed\") has been submitted\n",
      "Your job 450028 (\"HS01-3\") has been submitted\n",
      "Your job 450029 (\"MN492-trimmed\") has been submitted\n",
      "Your job 450030 (\"AC030-1\") has been submitted\n",
      "Your job 450031 (\"HS11-6\") has been submitted\n",
      "Your job 450032 (\"Syn10-4\") has been submitted\n",
      "Your job 450033 (\"AC029-trimmed\") has been submitted\n",
      "Your job 450034 (\"HS11-4\") has been submitted\n",
      "Your job 450035 (\"MN505-trimmed\") has been submitted\n",
      "Your job 450036 (\"MN548-trimmed\") has been submitted\n",
      "Your job 450037 (\"MN533-trimmed\") has been submitted\n",
      "Your job 450038 (\"MTa451-2\") has been submitted\n",
      "Your job 450039 (\"MN506-trimmed\") has been submitted\n",
      "Your job 450040 (\"Syn2-1\") has been submitted\n",
      "Your job 450041 (\"Syn10-7\") has been submitted\n",
      "Your job 450042 (\"MN563-trimmed\") has been submitted\n",
      "Your job 450043 (\"HS01-7\") has been submitted\n",
      "Your job 450044 (\"MTa450-18\") has been submitted\n",
      "Your job 450045 (\"HS11-3\") has been submitted\n",
      "Your job 450046 (\"Syn4-2\") has been submitted\n",
      "Your job 450047 (\"AC7_A19-trimmed\") has been submitted\n",
      "Your job 450048 (\"MTa451-13\") has been submitted\n",
      "Your job 450049 (\"HS01-2\") has been submitted\n",
      "Your job 450050 (\"Syn10-6\") has been submitted\n",
      "Your job 450051 (\"MTa451-7\") has been submitted\n",
      "Your job 450052 (\"MN571-trimmed\") has been submitted\n",
      "Your job 450053 (\"MTa450-8\") has been submitted\n",
      "Your job 450054 (\"MTa451-16\") has been submitted\n",
      "Your job 450055 (\"Syn2-2\") has been submitted\n",
      "Your job 450056 (\"MN527-2\") has been submitted\n",
      "Your job 450057 (\"MTa450-9\") has been submitted\n",
      "Your job 450058 (\"AC7_A4-trimmed\") has been submitted\n",
      "Your job 450059 (\"HS01-5\") has been submitted\n",
      "Your job 450060 (\"MTa450-4\") has been submitted\n",
      "Your job 450061 (\"MTa450-3\") has been submitted\n",
      "Your job 450062 (\"MN491-1\") has been submitted\n",
      "Your job 450063 (\"AC030-2\") has been submitted\n",
      "Your job 450064 (\"MN491-2\") has been submitted\n",
      "Your job 450065 (\"MTa450-13\") has been submitted\n",
      "Your job 450066 (\"Syn10-3\") has been submitted\n",
      "Your job 450067 (\"AC7-1\") has been submitted\n",
      "Your job 450068 (\"AC028-trimmed\") has been submitted\n",
      "Your job 450069 (\"HS11-5\") has been submitted\n",
      "Your job 450070 (\"Syn10-5\") has been submitted\n",
      "Your job 450071 (\"AC7-2\") has been submitted\n",
      "Your job 450072 (\"MTa450-7\") has been submitted\n",
      "Your job 450073 (\"MTa451-5\") has been submitted\n",
      "Your job 450074 (\"Syn10-1\") has been submitted\n",
      "Your job 450075 (\"MN527-1\") has been submitted\n",
      "Your job 450076 (\"MTa450-2\") has been submitted\n",
      "Your job 450077 (\"MN408b-trimmed\") has been submitted\n",
      "Your job 450078 (\"xT_6491_MN474-trimmed\") has been submitted\n",
      "Your job 450079 (\"MN408a-trimmed\") has been submitted\n",
      "Your job 450080 (\"HS01-4\") has been submitted\n",
      "Your job 450081 (\"MTa450-5\") has been submitted\n",
      "Your job 450082 (\"MN460_MN556-trimmed\") has been submitted\n",
      "Your job 450083 (\"HS11-2\") has been submitted\n",
      "Your job 450084 (\"MTa451-18\") has been submitted\n",
      "Your job 450085 (\"MN516-trimmed\") has been submitted\n",
      "Your job 450086 (\"Syn3-1\") has been submitted\n",
      "Your job 450087 (\"MTa450-12\") has been submitted\n",
      "Your job 450088 (\"MTa451-11\") has been submitted\n",
      "Your job 450089 (\"MTa451-10\") has been submitted\n",
      "Your job 450090 (\"MTa451-14\") has been submitted\n",
      "Your job 450091 (\"MTa450-17\") has been submitted\n",
      "Your job 450092 (\"MN521-trimmed\") has been submitted\n",
      "Your job 450093 (\"MTa451-1\") has been submitted\n",
      "Your job 450094 (\"MTa450-6\") has been submitted\n",
      "Your job 450095 (\"MTa451-9\") has been submitted\n",
      "Your job 450096 (\"Syn4-1\") has been submitted\n",
      "Your job 450097 (\"Syn3-3\") has been submitted\n",
      "Your job 450098 (\"Syn2-3\") has been submitted\n",
      "Your job 450099 (\"MTa450-14\") has been submitted\n",
      "Your job 450100 (\"Syn10-2\") has been submitted\n",
      "Your job 450101 (\"MTa451-4\") has been submitted\n",
      "Your job 450102 (\"BenMen1-trimmed\") has been submitted\n",
      "Your job 450103 (\"HS11-7\") has been submitted\n",
      "Your job 450104 (\"MN527-trimmed\") has been submitted\n",
      "Your job 450105 (\"MN571-1\") has been submitted\n",
      "Your job 450106 (\"HS01-1\") has been submitted\n",
      "Your job 450107 (\"MTa450-10\") has been submitted\n",
      "Your job 450108 (\"MN567-trimmed\") has been submitted\n",
      "Your job 450109 (\"MTa451-6\") has been submitted\n",
      "Your job 450110 (\"MTa450-15\") has been submitted\n",
      "Your job 450111 (\"MN466-trimmed\") has been submitted\n",
      "Your job 450112 (\"AC033-3\") has been submitted\n",
      "Your job 450113 (\"MIN31981-trimmed\") has been submitted\n",
      "Your job 450114 (\"MN479-trimmed\") has been submitted\n",
      "Your job 450115 (\"MTa451-3\") has been submitted\n",
      "Your job 450116 (\"Syn5-1\") has been submitted\n",
      "Your job 450117 (\"AC6-2\") has been submitted\n",
      "Your job 450118 (\"HS01-6\") has been submitted\n",
      "Your job 450119 (\"MTa450-11\") has been submitted\n",
      "Your job 450120 (\"HS11-1\") has been submitted\n",
      "Your job 450121 (\"AC033-1\") has been submitted\n",
      "Your job 450122 (\"NFT_735_MN522-trimmed\") has been submitted\n",
      "Your job 450123 (\"AC7_A17-trimmed\") has been submitted\n",
      "Your job 450124 (\"AC6-1\") has been submitted\n",
      "Your job 450125 (\"MTa451-8\") has been submitted\n",
      "Your job 450126 (\"MTa451-17\") has been submitted\n",
      "Your job 450127 (\"HS11-8\") has been submitted\n",
      "Your job 450128 (\"MN491-trimmed\") has been submitted\n",
      "Your job 450129 (\"Syn10-8\") has been submitted\n",
      "Your job 450130 (\"MN408c-trimmed\") has been submitted\n",
      "Your job 450131 (\"MTa451-12\") has been submitted\n",
      "Your job 450132 (\"AC033-2\") has been submitted\n",
      "Your job 450133 (\"MN529-trimmed\") has been submitted\n",
      "Your job 450134 (\"MN520-trimmed\") has been submitted\n",
      "Your job 450135 (\"MN560-trimmed\") has been submitted\n",
      "Your job 450136 (\"Syn3-2\") has been submitted\n"
     ]
    }
   ],
   "source": [
    "for fastq in human_fastq:\n",
    "    job_name = os.path.basename(fastq).replace('.bamtofastq.log','')\n",
    "    outdir =  utils.create_dir(kallisto_output_dir + job_name)\n",
    "    prefix = fastq.replace('.bamtofastq.log','')\n",
    "    f1 = prefix + '_1.fq'\n",
    "    f2 = prefix + '_2.fq'\n",
    "    logfile = outdir + '/' + job_name + '.kallisto.log'\n",
    "    sge_settings = 'qsub -V -b yes -j yes -N %s -o %s -pe threads 4' % (job_name,logfile)\n",
    "    kallisto_command = ' %s quant --threads=4 -i %s -b 100 -o %s %s %s' %(kallisto_exec, kallisto_hg19_index, outdir, f1, f2)\n",
    "    command = sge_settings + kallisto_command\n",
    "    #print command\n",
    "    ! $command\n",
    "    "
   ]
  },
  {
   "cell_type": "markdown",
   "metadata": {},
   "source": [
    "### run mouse fastq"
   ]
  },
  {
   "cell_type": "code",
   "execution_count": 10,
   "metadata": {
    "collapsed": false
   },
   "outputs": [
    {
     "name": "stdout",
     "output_type": "stream",
     "text": [
      "Your job 450137 (\"MS12\") has been submitted\n",
      "Your job 450138 (\"MS11\") has been submitted\n",
      "Your job 450139 (\"MS03\") has been submitted\n",
      "Your job 450140 (\"MS02\") has been submitted\n"
     ]
    }
   ],
   "source": [
    "for fastq in mouse_fastq:\n",
    "    job_name = os.path.basename(fastq).replace('.bamtofastq.log','')\n",
    "    outdir =  utils.create_dir(kallisto_output_dir + job_name)\n",
    "    prefix = fastq.replace('.bamtofastq.log','')\n",
    "    f1 = prefix + '_1.fq'\n",
    "    f2 = prefix + '_2.fq'\n",
    "    logfile = outdir + '/' + job_name + '.kallisto.log'\n",
    "    sge_settings = 'qsub -V -b yes -j yes -N %s -o %s -pe threads 4' % (job_name,logfile)\n",
    "    kallisto_command = ' %s quant --threads=4 -i %s -b 100 -o %s %s %s' %(kallisto_exec, kallisto_mm_index, outdir, f1, f2)\n",
    "    command = sge_settings + kallisto_command\n",
    "    #print command\n",
    "    ! $command\n",
    "    "
   ]
  },
  {
   "cell_type": "code",
   "execution_count": null,
   "metadata": {
    "collapsed": true
   },
   "outputs": [],
   "source": []
  }
 ],
 "metadata": {
  "kernelspec": {
   "display_name": "Python 2",
   "language": "python",
   "name": "python2"
  },
  "language_info": {
   "codemirror_mode": {
    "name": "ipython",
    "version": 2
   },
   "file_extension": ".py",
   "mimetype": "text/x-python",
   "name": "python",
   "nbconvert_exporter": "python",
   "pygments_lexer": "ipython2",
   "version": "2.7.11"
  }
 },
 "nbformat": 4,
 "nbformat_minor": 0
}
