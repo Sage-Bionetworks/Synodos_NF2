{
 "cells": [
  {
   "cell_type": "code",
   "execution_count": 19,
   "metadata": {
    "collapsed": false
   },
   "outputs": [],
   "source": [
    "import os\n",
    "import sys\n",
    "import synapseclient\n",
    "import pandas as pd\n",
    "\n",
    "sys.path.append(\"/Users/apratap/dev/appys/lib/\")\n",
    "import utils\n",
    "import synapseutils"
   ]
  },
  {
   "cell_type": "code",
   "execution_count": 20,
   "metadata": {
    "collapsed": false
   },
   "outputs": [
    {
     "name": "stdout",
     "output_type": "stream",
     "text": [
      "Welcome, Abhishek Pratap!\n",
      "\n"
     ]
    }
   ],
   "source": [
    "syn = synapseclient.login()"
   ]
  },
  {
   "cell_type": "code",
   "execution_count": null,
   "metadata": {
    "collapsed": false
   },
   "outputs": [],
   "source": [
    "#download all the zip folders uploaded by Serkan and create individual files\n",
    "for synid in ('syn5562403', 'syn5020954', 'syn5562404', 'syn5562405'):\n",
    "    zip_folder = syn.get(synid)\n",
    "    !unzip $zip_folder.path -d test"
   ]
  },
  {
   "cell_type": "code",
   "execution_count": null,
   "metadata": {
    "collapsed": false
   },
   "outputs": [],
   "source": [
    "rsem_files = utils.get_FilesList(\"./test/\",pattern=\".results\")"
   ]
  },
  {
   "cell_type": "code",
   "execution_count": null,
   "metadata": {
    "collapsed": false
   },
   "outputs": [],
   "source": [
    "_ = [syn.store(synapseclient.File(f, parentId = 'syn5020951'), executed='syn5269281') for f in rsem_files]"
   ]
  },
  {
   "cell_type": "code",
   "execution_count": 3,
   "metadata": {
    "collapsed": true
   },
   "outputs": [],
   "source": [
    "mdata = syn.query('select id,name from entity where parentId == \"syn5020951\"')\n",
    "mdata = synapseutils.query2df(mdata)\n",
    "mdata = mdata[mdata.name.str.endswith('genes.results')]"
   ]
  },
  {
   "cell_type": "markdown",
   "metadata": {},
   "source": [
    "### generate TPM values for RSEM mapped data"
   ]
  },
  {
   "cell_type": "code",
   "execution_count": 28,
   "metadata": {
    "collapsed": false
   },
   "outputs": [
    {
     "name": "stdout",
     "output_type": "stream",
     "text": [
      "\n",
      "##################################################\n",
      " Uploading file to Synapse storage \n",
      "##################################################\n",
      "Uploaded Chunks [####################]100.00%     17.2MB/17.2MB MGH_RNASeq_samples_TPM_counts.csv Done...\n",
      "Upload completed in 4 seconds.\n"
     ]
    },
    {
     "data": {
      "text/plain": [
       "File(contentType=None, parentId=u'syn5273816', synapseStore=True, fileSize=None, versionNumber=6, dataFileHandleId=u'7248010', accessControlList=u'/repo/v1/entity/syn5273852/acl', etag=u'2a47dbf2-3f54-49bd-a78d-6edad9832798', externalURL=None, cacheDir='', creationDate=u'1447357968385', entityType=u'org.sagebionetworks.repo.model.FileEntity', path='MGH_RNASeq_samples_TPM_counts.csv', uri=u'/entity/syn5273852/annotations', uri=u'/repo/v1/entity/syn5273852', concreteType='org.sagebionetworks.repo.model.FileEntity', versions=u'/repo/v1/entity/syn5273852/version', createdOn=u'2015-11-12T19:52:48.385Z', md5=None, files=['MGH_RNASeq_samples_TPM_counts.csv'], annotations=u'/repo/v1/entity/syn5273852/annotations', versionUrl=u'/repo/v1/entity/syn5273852/version/6', name=u'MGH_RNASeq_samples_TPM_counts.csv', versionLabel=u'6', id=u'syn5273852', modifiedOn=u'2015-12-30T03:49:55.614Z', createdBy=u'2166046', modifiedBy=u'2166046', etag=u'7cf22ed0-4721-4392-b583-dbc282190c6b')"
      ]
     },
     "execution_count": 28,
     "metadata": {},
     "output_type": "execute_result"
    }
   ],
   "source": [
    "expression_data = []\n",
    "for rsem_file in mdata.id:\n",
    "    rsem_file = syn.get(rsem_file)\n",
    "    sample_name = os.path.basename(rsem_file.path).replace('.rsem.genes.results','')\n",
    "    d = pd.read_csv(rsem_file.path, sep=\"\\t\")\n",
    "    d = d.ix[:, ['gene_id','TPM']]\n",
    "    d.columns = ['gene_id', sample_name]\n",
    "    d.gene_id = d.gene_id.str.upper()\n",
    "    d.set_index(['gene_id'],inplace=True)\n",
    "    expression_data.append(d)\n",
    "    \n",
    "rsem_TPM = pd.concat(expression_data, axis=1)\n",
    "rsem_TPM.to_csv('MGH_RNASeq_samples_TPM_counts.csv', sep=\"\\t\")\n",
    "syn.store(synapseclient.File(\"MGH_RNASeq_samples_TPM_counts.csv\", parentId =\"syn5273816\" ),\n",
    "         used=mdata.id.tolist())"
   ]
  },
  {
   "cell_type": "markdown",
   "metadata": {
    "collapsed": false
   },
   "source": [
    "### generate expected_count values for RSEM mapped data"
   ]
  },
  {
   "cell_type": "code",
   "execution_count": 30,
   "metadata": {
    "collapsed": false
   },
   "outputs": [
    {
     "name": "stdout",
     "output_type": "stream",
     "text": [
      "\n",
      "##################################################\n",
      " Uploading file to Synapse storage \n",
      "##################################################\n",
      "Uploaded Chunks [####################]100.00%     18.1MB/18.1MB MGH_RNASeq_samples_RSEM_expected_counts.csv Done...\n",
      "Upload completed in 4 seconds.\n"
     ]
    },
    {
     "data": {
      "text/plain": [
       "File(contentType=None, createdOn=u'2015-12-29T00:41:10.191Z', etag=u'ea412a81-01c2-49d2-97db-237b1d8aae7a', parentId=u'syn5273816', synapseStore=True, fileSize=None, versionLabel=u'3', versionNumber=3, externalURL=None, cacheDir='', uri=u'/repo/v1/entity/syn5568205', dataFileHandleId=u'7248018', entityType=u'org.sagebionetworks.repo.model.FileEntity', files=['MGH_RNASeq_samples_RSEM_expected_counts.csv'], creationDate=u'1451349670191', accessControlList=u'/repo/v1/entity/syn5568205/acl', etag=u'3a9312d0-cfe7-42e3-8789-11807954e432', concreteType='org.sagebionetworks.repo.model.FileEntity', id=u'syn5568205', path='MGH_RNASeq_samples_RSEM_expected_counts.csv', name=u'MGH_RNASeq_samples_RSEM_expected_counts.csv', modifiedBy=u'2166046', md5=None, versionUrl=u'/repo/v1/entity/syn5568205/version/3', versions=u'/repo/v1/entity/syn5568205/version', uri=u'/entity/syn5568205/annotations', annotations=u'/repo/v1/entity/syn5568205/annotations', modifiedOn=u'2015-12-30T03:52:15.359Z', createdBy=u'2166046')"
      ]
     },
     "execution_count": 30,
     "metadata": {},
     "output_type": "execute_result"
    }
   ],
   "source": [
    "expected_count_data = []\n",
    "for rsem_file in mdata.id:\n",
    "    rsem_file = syn.get(rsem_file)\n",
    "    sample_name = os.path.basename(rsem_file.path).replace('.rsem.genes.results','')\n",
    "    d = pd.read_csv(rsem_file.path, sep=\"\\t\")\n",
    "    d = d.ix[:, ['gene_id','expected_count']]\n",
    "    d.columns = ['gene_id', sample_name]\n",
    "    d.gene_id = d.gene_id.str.upper()\n",
    "    d.set_index(['gene_id'],inplace=True)\n",
    "    expected_count_data.append(d)\n",
    "    \n",
    "rsem_expected_counts = pd.concat(expected_count_data, axis=1)\n",
    "rsem_expected_counts.to_csv('MGH_RNASeq_samples_RSEM_expected_counts.csv', sep=\"\\t\")\n",
    "syn.store(synapseclient.File(\"MGH_RNASeq_samples_RSEM_expected_counts.csv\", parentId =\"syn5273816\" ),\n",
    "         used=mdata.id.tolist())"
   ]
  },
  {
   "cell_type": "code",
   "execution_count": 32,
   "metadata": {
    "collapsed": false
   },
   "outputs": [],
   "source": [
    "! rm MGH_RNASeq_samples_TPM_counts.csv MGH_RNASeq_samples_RSEM_expected_counts.csv"
   ]
  },
  {
   "cell_type": "code",
   "execution_count": 33,
   "metadata": {
    "collapsed": true
   },
   "outputs": [],
   "source": [
    "! rm -rf test/"
   ]
  },
  {
   "cell_type": "markdown",
   "metadata": {},
   "source": [
    "### Move bam and bigwig files to folders"
   ]
  },
  {
   "cell_type": "code",
   "execution_count": 35,
   "metadata": {
    "collapsed": false
   },
   "outputs": [],
   "source": [
    "mdata = syn.query('select id,name from entity where parentId == \"syn4516568\"')\n",
    "mdata = synapseutils.query2df(mdata)\n",
    "bams = mdata[mdata.name.str.endswith('bam')]\n",
    "bigwigs = mdata[mdata.name.str.endswith('bw')]\n",
    "\n",
    "for bam in bams.id.tolist():\n",
    "    x = syn.get(bam, downloadFile=False)\n",
    "    x.parentId = 'syn5567576'\n",
    "    _ = syn.store(x)\n",
    "    \n",
    "for bigwig in bigwigs.id.tolist():\n",
    "    x = syn.get(bigwig, downloadFile=False)\n",
    "    x.parentId = 'syn5567583'\n",
    "    _ = syn.store(x)"
   ]
  },
  {
   "cell_type": "markdown",
   "metadata": {},
   "source": [
    "### Create the meta data tables for MGH RNA Seq samples"
   ]
  },
  {
   "cell_type": "code",
   "execution_count": 40,
   "metadata": {
    "collapsed": false
   },
   "outputs": [],
   "source": [
    "batch1 = syn.get('syn5569839')\n",
    "batch1 = pd.read_excel(batch1.path)\n",
    "\n",
    "batch1.rename(columns={'Sample_ID':'SampleID', 'NF2 status':'NF2_status', 'Synodos_ID':'sampleAlias',\n",
    "                      'Cell type':'RNA_source'}, inplace=True)\n",
    "batch1['Treatment'] = 'untreated'\n",
    "batch1['batch'] = 1\n",
    "batch1['sample_description'] = 'NA'\n",
    "batch1['rx_timepoint'] = None\n",
    "batch1.sampleAlias = batch1.sampleAlias.str.replace('syn', 'Syn')\n",
    "batch1['cellLine'] = batch1.sampleAlias\n",
    "batch1.sampleAlias = batch1.sampleAlias.map(str) + '_' + batch1.Treatment.map(str) "
   ]
  },
  {
   "cell_type": "code",
   "execution_count": 41,
   "metadata": {
    "collapsed": false
   },
   "outputs": [],
   "source": [
    "batch2 = syn.get('syn5562408')\n",
    "batch2 = pd.read_excel(batch2.path, skiprows=2)\n",
    "batch2['batch'] = 2\n",
    "batch3 = syn.get('syn5562407')\n",
    "batch3 = pd.read_excel(batch3.path)\n",
    "batch3['batch'] = 3\n",
    "\n",
    "batch3.rename(columns={'Sample ID':'SampleID'}, inplace=True)\n",
    "batch2.rename(columns={'Bamfile-name':'SampleID'}, inplace=True)\n",
    "batch3.rename(columns={'RNA source':'RNA_source'}, inplace=True)\n",
    "\n",
    "\n",
    "temp_df = batch2['NF2 status'].str.split('\\s', expand=True)\n",
    "batch2['NF2_status'] = temp_df.ix[:,1]\n",
    "batch2['RNA_source'] = temp_df.ix[:,2]\n",
    "batch3.rename(columns={'NF2 ':'NF2_status'}, inplace=True)\n",
    "\n",
    "#rx timepoint\n",
    "batch2.rename(columns={'Rx timepoint':'rx_timepoint'}, inplace=True)\n",
    "temp_df = batch3.Treatment.str.split(',', expand=True)\n",
    "batch3.Treatment = temp_df.ix[:,0]\n",
    "batch3['rx_timepoint'] = temp_df.ix[:,1]\n",
    "\n",
    "#\n",
    "batch2.rename(columns={'Drug ': 'Treatment'}, inplace=True)\n",
    "batch2.Treatment = batch2.Treatment.str.replace('100nM ','')\n",
    "\n",
    "#\n",
    "batch3.rename(columns={'Sample description': 'sample_description'}, inplace=True)\n",
    "batch2['sample_description'] = 'NA'\n",
    "\n",
    "#fix drug name\n",
    "batch2.loc[batch2.Treatment.isin(['GSK2126459', 'GSK2126460']),'Treatment'] = 'GSK2126458'\n",
    "batch3.loc[batch3.Treatment.isin(['GSK2126459', 'GSK2126460']),'Treatment'] = 'GSK2126458'\n",
    "\n",
    "#alias\n",
    "batch3['sampleAlias'] = batch3.SampleID.map(lambda x: str(x).strip()) + '_' + batch3.Treatment.map((lambda x: str(x).strip())) \n",
    "batch2['sampleAlias'] = batch2['Cell Line-replicate #'].map(lambda x: str(x).strip()) + '_' + batch2.Treatment.map(lambda x: str(x).strip()) \n",
    "\n",
    "#cellLine\n",
    "batch2['cellLine'] = batch2.sampleAlias.str.split('-',expand=True).ix[:,0]\n",
    "batch3['cellLine'] = batch3.SampleID.str.split('-',expand=True).ix[:,0]\n",
    "batch2.cellLine = batch2.cellLine.str.replace(' ','')\n",
    "batch3.cellLine = batch3.cellLine.str.replace(' ','')\n",
    "\n",
    "batch2.RNA_source = batch2.RNA_source.str.replace('(','').str.replace(')','')\n",
    "\n",
    "batch2.drop(['Row', 'Column', 'NF2 status', '# RNA samples', 'Cell Line-replicate #', 'Alias'], inplace=True, axis=1)\n",
    "batch3.drop(['Row/Col', 'replicate ID'], inplace=True, axis=1)"
   ]
  },
  {
   "cell_type": "code",
   "execution_count": 42,
   "metadata": {
    "collapsed": false
   },
   "outputs": [],
   "source": [
    "mdata = pd.concat([batch1,batch2,batch3])\n",
    "\n",
    "mdata = mdata[~mdata.SampleID.isnull()]\n",
    "mdata.SampleID = mdata.SampleID.str.replace(' ','')"
   ]
  },
  {
   "cell_type": "code",
   "execution_count": 44,
   "metadata": {
    "collapsed": false
   },
   "outputs": [
    {
     "name": "stdout",
     "output_type": "stream",
     "text": [
      "Uploaded Chunks [####################]100.00%     10.6kB/10.6kB /tmp/tmpYVW6ie Done...\n",
      "Upload completed in 3 seconds.\n",
      " [####################]100.00%     1/1  Done...\n",
      "    "
     ]
    }
   ],
   "source": [
    "#create table on synapse\n",
    "schema = synapseclient.Schema(name=\"MGH RNASeq Samples metaData\", columns=synapseclient.as_table_columns(mdata),\n",
    "                             parent = 'syn2347420')\n",
    "mdata_table = syn.store(synapseclient.Table(schema, mdata))"
   ]
  },
  {
   "cell_type": "markdown",
   "metadata": {},
   "source": [
    "### May 5, 2016\n",
    "### Create Summary data files for diff calls generated by MGH"
   ]
  },
  {
   "cell_type": "code",
   "execution_count": 4,
   "metadata": {
    "collapsed": false
   },
   "outputs": [],
   "source": [
    "diff_calls1 = pd.read_csv(syn.get('syn6041022').path, sep=\"\\t\")\n",
    "diff_calls2 = pd.read_csv(syn.get('syn6041027').path, sep=\"\\t\")\n",
    "diffExp_calls = pd.concat([diff_calls1, diff_calls2])"
   ]
  },
  {
   "cell_type": "code",
   "execution_count": 5,
   "metadata": {
    "collapsed": false
   },
   "outputs": [],
   "source": [
    "diffExp_calls.to_csv('Synodos_RNASeq_diffExp_genes_MGH_generated.tsv', sep=\"\\t\", index=False )"
   ]
  },
  {
   "cell_type": "code",
   "execution_count": 6,
   "metadata": {
    "collapsed": false
   },
   "outputs": [
    {
     "name": "stdout",
     "output_type": "stream",
     "text": [
      "\n",
      "##################################################\n",
      " Uploading file to Synapse storage \n",
      "##################################################\n",
      "Uploading [####################]100.00%     99.0MB/99.0MB Synodos_RNASeq_diffExp_genes_MGH_generated.tsv Done...\n",
      "    "
     ]
    }
   ],
   "source": [
    "r = syn.store(synapseclient.File('Synodos_RNASeq_diffExp_genes_MGH_generated.tsv', parentId = 'syn5273816'),\n",
    "         used = ['syn6041022', 'syn6041027'], executed = 'syn6041029')"
   ]
  },
  {
   "cell_type": "markdown",
   "metadata": {},
   "source": [
    "#### MGH generated raw counts"
   ]
  },
  {
   "cell_type": "code",
   "execution_count": 80,
   "metadata": {
    "collapsed": false
   },
   "outputs": [],
   "source": [
    "raw_counts_synid = ['syn6041023', 'syn6041025', 'syn6041026']\n",
    "counts = [ pd.read_csv(syn.get(x).path, sep=\",\") for x in raw_counts_synid]\n",
    "counts = [x.drop(['start','chr', 'end'], axis=1) for x in counts]\n",
    "#counts = [x.set_index(['gene']) for x in counts]"
   ]
  },
  {
   "cell_type": "code",
   "execution_count": 89,
   "metadata": {
    "collapsed": false
   },
   "outputs": [],
   "source": [
    "final_counts = reduce(lambda left, right: pd.merge(left, right, on='gene'), counts)\n",
    "final_counts.to_csv(\"Synodos_RNASeq_data_rawCounts_MGH_generated.tsv\", sep=\"\\t\", index=False)"
   ]
  },
  {
   "cell_type": "code",
   "execution_count": 87,
   "metadata": {
    "collapsed": false
   },
   "outputs": [],
   "source": [
    "syn.store(synapseclient.File(\"Synodos_RNASeq_data_rawCounts_MGH_generated.tsv\", parentId= 'syn6042902'),\n",
    "         used=raw_counts_synid,\n",
    "         executed=\"\")"
   ]
  },
  {
   "cell_type": "code",
   "execution_count": null,
   "metadata": {
    "collapsed": true
   },
   "outputs": [],
   "source": []
  }
 ],
 "metadata": {
  "kernelspec": {
   "display_name": "Python 2",
   "language": "python",
   "name": "python2"
  },
  "language_info": {
   "codemirror_mode": {
    "name": "ipython",
    "version": 2
   },
   "file_extension": ".py",
   "mimetype": "text/x-python",
   "name": "python",
   "nbconvert_exporter": "python",
   "pygments_lexer": "ipython2",
   "version": "2.7.11"
  }
 },
 "nbformat": 4,
 "nbformat_minor": 0
}
